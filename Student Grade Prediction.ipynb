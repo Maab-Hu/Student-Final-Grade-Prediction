{
 "cells": [
  {
   "cell_type": "markdown",
   "id": "3c1c1e07",
   "metadata": {},
   "source": [
    "# Chosen Datasets : Student Performance\n"
   ]
  },
  {
   "cell_type": "markdown",
   "id": "d60d62a2",
   "metadata": {},
   "source": [
    "# Question 1 "
   ]
  },
  {
   "cell_type": "code",
   "execution_count": 5,
   "id": "738092b8",
   "metadata": {},
   "outputs": [],
   "source": [
    "#importing the required libraries\n",
    "import matplotlib.pyplot as plt\n",
    "import seaborn as sns\n",
    "import numpy as np \n",
    "import pandas as pd\n",
    "import math as math"
   ]
  },
  {
   "cell_type": "code",
   "execution_count": 6,
   "id": "8d5b151e",
   "metadata": {},
   "outputs": [],
   "source": [
    "#Importing and reading the datasets\n",
    "\n",
    "math_df= pd.read_csv('student-mat.csv',sep=';')\n",
    "port_df = pd.read_csv('student-por.csv',sep=';')\n",
    "\n"
   ]
  },
  {
   "cell_type": "code",
   "execution_count": 7,
   "id": "94c47c76",
   "metadata": {},
   "outputs": [
    {
     "data": {
      "text/html": [
       "<div>\n",
       "<style scoped>\n",
       "    .dataframe tbody tr th:only-of-type {\n",
       "        vertical-align: middle;\n",
       "    }\n",
       "\n",
       "    .dataframe tbody tr th {\n",
       "        vertical-align: top;\n",
       "    }\n",
       "\n",
       "    .dataframe thead th {\n",
       "        text-align: right;\n",
       "    }\n",
       "</style>\n",
       "<table border=\"1\" class=\"dataframe\">\n",
       "  <thead>\n",
       "    <tr style=\"text-align: right;\">\n",
       "      <th></th>\n",
       "      <th>school</th>\n",
       "      <th>sex</th>\n",
       "      <th>age</th>\n",
       "      <th>address</th>\n",
       "      <th>famsize</th>\n",
       "      <th>Pstatus</th>\n",
       "      <th>Medu</th>\n",
       "      <th>Fedu</th>\n",
       "      <th>Mjob</th>\n",
       "      <th>Fjob</th>\n",
       "      <th>...</th>\n",
       "      <th>famrel</th>\n",
       "      <th>freetime</th>\n",
       "      <th>goout</th>\n",
       "      <th>Dalc</th>\n",
       "      <th>Walc</th>\n",
       "      <th>health</th>\n",
       "      <th>absences</th>\n",
       "      <th>G1</th>\n",
       "      <th>G2</th>\n",
       "      <th>G3</th>\n",
       "    </tr>\n",
       "  </thead>\n",
       "  <tbody>\n",
       "    <tr>\n",
       "      <th>0</th>\n",
       "      <td>GP</td>\n",
       "      <td>F</td>\n",
       "      <td>18</td>\n",
       "      <td>U</td>\n",
       "      <td>GT3</td>\n",
       "      <td>A</td>\n",
       "      <td>4</td>\n",
       "      <td>4</td>\n",
       "      <td>at_home</td>\n",
       "      <td>teacher</td>\n",
       "      <td>...</td>\n",
       "      <td>4</td>\n",
       "      <td>3</td>\n",
       "      <td>4</td>\n",
       "      <td>1</td>\n",
       "      <td>1</td>\n",
       "      <td>3</td>\n",
       "      <td>6</td>\n",
       "      <td>5</td>\n",
       "      <td>6</td>\n",
       "      <td>6</td>\n",
       "    </tr>\n",
       "    <tr>\n",
       "      <th>1</th>\n",
       "      <td>GP</td>\n",
       "      <td>F</td>\n",
       "      <td>17</td>\n",
       "      <td>U</td>\n",
       "      <td>GT3</td>\n",
       "      <td>T</td>\n",
       "      <td>1</td>\n",
       "      <td>1</td>\n",
       "      <td>at_home</td>\n",
       "      <td>other</td>\n",
       "      <td>...</td>\n",
       "      <td>5</td>\n",
       "      <td>3</td>\n",
       "      <td>3</td>\n",
       "      <td>1</td>\n",
       "      <td>1</td>\n",
       "      <td>3</td>\n",
       "      <td>4</td>\n",
       "      <td>5</td>\n",
       "      <td>5</td>\n",
       "      <td>6</td>\n",
       "    </tr>\n",
       "    <tr>\n",
       "      <th>2</th>\n",
       "      <td>GP</td>\n",
       "      <td>F</td>\n",
       "      <td>15</td>\n",
       "      <td>U</td>\n",
       "      <td>LE3</td>\n",
       "      <td>T</td>\n",
       "      <td>1</td>\n",
       "      <td>1</td>\n",
       "      <td>at_home</td>\n",
       "      <td>other</td>\n",
       "      <td>...</td>\n",
       "      <td>4</td>\n",
       "      <td>3</td>\n",
       "      <td>2</td>\n",
       "      <td>2</td>\n",
       "      <td>3</td>\n",
       "      <td>3</td>\n",
       "      <td>10</td>\n",
       "      <td>7</td>\n",
       "      <td>8</td>\n",
       "      <td>10</td>\n",
       "    </tr>\n",
       "    <tr>\n",
       "      <th>3</th>\n",
       "      <td>GP</td>\n",
       "      <td>F</td>\n",
       "      <td>15</td>\n",
       "      <td>U</td>\n",
       "      <td>GT3</td>\n",
       "      <td>T</td>\n",
       "      <td>4</td>\n",
       "      <td>2</td>\n",
       "      <td>health</td>\n",
       "      <td>services</td>\n",
       "      <td>...</td>\n",
       "      <td>3</td>\n",
       "      <td>2</td>\n",
       "      <td>2</td>\n",
       "      <td>1</td>\n",
       "      <td>1</td>\n",
       "      <td>5</td>\n",
       "      <td>2</td>\n",
       "      <td>15</td>\n",
       "      <td>14</td>\n",
       "      <td>15</td>\n",
       "    </tr>\n",
       "    <tr>\n",
       "      <th>4</th>\n",
       "      <td>GP</td>\n",
       "      <td>F</td>\n",
       "      <td>16</td>\n",
       "      <td>U</td>\n",
       "      <td>GT3</td>\n",
       "      <td>T</td>\n",
       "      <td>3</td>\n",
       "      <td>3</td>\n",
       "      <td>other</td>\n",
       "      <td>other</td>\n",
       "      <td>...</td>\n",
       "      <td>4</td>\n",
       "      <td>3</td>\n",
       "      <td>2</td>\n",
       "      <td>1</td>\n",
       "      <td>2</td>\n",
       "      <td>5</td>\n",
       "      <td>4</td>\n",
       "      <td>6</td>\n",
       "      <td>10</td>\n",
       "      <td>10</td>\n",
       "    </tr>\n",
       "  </tbody>\n",
       "</table>\n",
       "<p>5 rows × 33 columns</p>\n",
       "</div>"
      ],
      "text/plain": [
       "  school sex  age address famsize Pstatus  Medu  Fedu     Mjob      Fjob  ...  \\\n",
       "0     GP   F   18       U     GT3       A     4     4  at_home   teacher  ...   \n",
       "1     GP   F   17       U     GT3       T     1     1  at_home     other  ...   \n",
       "2     GP   F   15       U     LE3       T     1     1  at_home     other  ...   \n",
       "3     GP   F   15       U     GT3       T     4     2   health  services  ...   \n",
       "4     GP   F   16       U     GT3       T     3     3    other     other  ...   \n",
       "\n",
       "  famrel freetime  goout  Dalc  Walc health absences  G1  G2  G3  \n",
       "0      4        3      4     1     1      3        6   5   6   6  \n",
       "1      5        3      3     1     1      3        4   5   5   6  \n",
       "2      4        3      2     2     3      3       10   7   8  10  \n",
       "3      3        2      2     1     1      5        2  15  14  15  \n",
       "4      4        3      2     1     2      5        4   6  10  10  \n",
       "\n",
       "[5 rows x 33 columns]"
      ]
     },
     "execution_count": 7,
     "metadata": {},
     "output_type": "execute_result"
    }
   ],
   "source": [
    "math_df.head() # Math subject data"
   ]
  },
  {
   "cell_type": "code",
   "execution_count": 8,
   "id": "81a2f96b",
   "metadata": {},
   "outputs": [
    {
     "data": {
      "text/html": [
       "<div>\n",
       "<style scoped>\n",
       "    .dataframe tbody tr th:only-of-type {\n",
       "        vertical-align: middle;\n",
       "    }\n",
       "\n",
       "    .dataframe tbody tr th {\n",
       "        vertical-align: top;\n",
       "    }\n",
       "\n",
       "    .dataframe thead th {\n",
       "        text-align: right;\n",
       "    }\n",
       "</style>\n",
       "<table border=\"1\" class=\"dataframe\">\n",
       "  <thead>\n",
       "    <tr style=\"text-align: right;\">\n",
       "      <th></th>\n",
       "      <th>school</th>\n",
       "      <th>sex</th>\n",
       "      <th>age</th>\n",
       "      <th>address</th>\n",
       "      <th>famsize</th>\n",
       "      <th>Pstatus</th>\n",
       "      <th>Medu</th>\n",
       "      <th>Fedu</th>\n",
       "      <th>Mjob</th>\n",
       "      <th>Fjob</th>\n",
       "      <th>...</th>\n",
       "      <th>famrel</th>\n",
       "      <th>freetime</th>\n",
       "      <th>goout</th>\n",
       "      <th>Dalc</th>\n",
       "      <th>Walc</th>\n",
       "      <th>health</th>\n",
       "      <th>absences</th>\n",
       "      <th>G1</th>\n",
       "      <th>G2</th>\n",
       "      <th>G3</th>\n",
       "    </tr>\n",
       "  </thead>\n",
       "  <tbody>\n",
       "    <tr>\n",
       "      <th>0</th>\n",
       "      <td>GP</td>\n",
       "      <td>F</td>\n",
       "      <td>18</td>\n",
       "      <td>U</td>\n",
       "      <td>GT3</td>\n",
       "      <td>A</td>\n",
       "      <td>4</td>\n",
       "      <td>4</td>\n",
       "      <td>at_home</td>\n",
       "      <td>teacher</td>\n",
       "      <td>...</td>\n",
       "      <td>4</td>\n",
       "      <td>3</td>\n",
       "      <td>4</td>\n",
       "      <td>1</td>\n",
       "      <td>1</td>\n",
       "      <td>3</td>\n",
       "      <td>4</td>\n",
       "      <td>0</td>\n",
       "      <td>11</td>\n",
       "      <td>11</td>\n",
       "    </tr>\n",
       "    <tr>\n",
       "      <th>1</th>\n",
       "      <td>GP</td>\n",
       "      <td>F</td>\n",
       "      <td>17</td>\n",
       "      <td>U</td>\n",
       "      <td>GT3</td>\n",
       "      <td>T</td>\n",
       "      <td>1</td>\n",
       "      <td>1</td>\n",
       "      <td>at_home</td>\n",
       "      <td>other</td>\n",
       "      <td>...</td>\n",
       "      <td>5</td>\n",
       "      <td>3</td>\n",
       "      <td>3</td>\n",
       "      <td>1</td>\n",
       "      <td>1</td>\n",
       "      <td>3</td>\n",
       "      <td>2</td>\n",
       "      <td>9</td>\n",
       "      <td>11</td>\n",
       "      <td>11</td>\n",
       "    </tr>\n",
       "    <tr>\n",
       "      <th>2</th>\n",
       "      <td>GP</td>\n",
       "      <td>F</td>\n",
       "      <td>15</td>\n",
       "      <td>U</td>\n",
       "      <td>LE3</td>\n",
       "      <td>T</td>\n",
       "      <td>1</td>\n",
       "      <td>1</td>\n",
       "      <td>at_home</td>\n",
       "      <td>other</td>\n",
       "      <td>...</td>\n",
       "      <td>4</td>\n",
       "      <td>3</td>\n",
       "      <td>2</td>\n",
       "      <td>2</td>\n",
       "      <td>3</td>\n",
       "      <td>3</td>\n",
       "      <td>6</td>\n",
       "      <td>12</td>\n",
       "      <td>13</td>\n",
       "      <td>12</td>\n",
       "    </tr>\n",
       "    <tr>\n",
       "      <th>3</th>\n",
       "      <td>GP</td>\n",
       "      <td>F</td>\n",
       "      <td>15</td>\n",
       "      <td>U</td>\n",
       "      <td>GT3</td>\n",
       "      <td>T</td>\n",
       "      <td>4</td>\n",
       "      <td>2</td>\n",
       "      <td>health</td>\n",
       "      <td>services</td>\n",
       "      <td>...</td>\n",
       "      <td>3</td>\n",
       "      <td>2</td>\n",
       "      <td>2</td>\n",
       "      <td>1</td>\n",
       "      <td>1</td>\n",
       "      <td>5</td>\n",
       "      <td>0</td>\n",
       "      <td>14</td>\n",
       "      <td>14</td>\n",
       "      <td>14</td>\n",
       "    </tr>\n",
       "    <tr>\n",
       "      <th>4</th>\n",
       "      <td>GP</td>\n",
       "      <td>F</td>\n",
       "      <td>16</td>\n",
       "      <td>U</td>\n",
       "      <td>GT3</td>\n",
       "      <td>T</td>\n",
       "      <td>3</td>\n",
       "      <td>3</td>\n",
       "      <td>other</td>\n",
       "      <td>other</td>\n",
       "      <td>...</td>\n",
       "      <td>4</td>\n",
       "      <td>3</td>\n",
       "      <td>2</td>\n",
       "      <td>1</td>\n",
       "      <td>2</td>\n",
       "      <td>5</td>\n",
       "      <td>0</td>\n",
       "      <td>11</td>\n",
       "      <td>13</td>\n",
       "      <td>13</td>\n",
       "    </tr>\n",
       "  </tbody>\n",
       "</table>\n",
       "<p>5 rows × 33 columns</p>\n",
       "</div>"
      ],
      "text/plain": [
       "  school sex  age address famsize Pstatus  Medu  Fedu     Mjob      Fjob  ...  \\\n",
       "0     GP   F   18       U     GT3       A     4     4  at_home   teacher  ...   \n",
       "1     GP   F   17       U     GT3       T     1     1  at_home     other  ...   \n",
       "2     GP   F   15       U     LE3       T     1     1  at_home     other  ...   \n",
       "3     GP   F   15       U     GT3       T     4     2   health  services  ...   \n",
       "4     GP   F   16       U     GT3       T     3     3    other     other  ...   \n",
       "\n",
       "  famrel freetime  goout  Dalc  Walc health absences  G1  G2  G3  \n",
       "0      4        3      4     1     1      3        4   0  11  11  \n",
       "1      5        3      3     1     1      3        2   9  11  11  \n",
       "2      4        3      2     2     3      3        6  12  13  12  \n",
       "3      3        2      2     1     1      5        0  14  14  14  \n",
       "4      4        3      2     1     2      5        0  11  13  13  \n",
       "\n",
       "[5 rows x 33 columns]"
      ]
     },
     "execution_count": 8,
     "metadata": {},
     "output_type": "execute_result"
    }
   ],
   "source": [
    "port_df.head() # Portugese subject data"
   ]
  },
  {
   "cell_type": "markdown",
   "id": "32c1a870",
   "metadata": {},
   "source": [
    "# Merging the datasets"
   ]
  },
  {
   "cell_type": "code",
   "execution_count": 9,
   "id": "a6c48c28",
   "metadata": {},
   "outputs": [
    {
     "data": {
      "text/html": [
       "<div>\n",
       "<style scoped>\n",
       "    .dataframe tbody tr th:only-of-type {\n",
       "        vertical-align: middle;\n",
       "    }\n",
       "\n",
       "    .dataframe tbody tr th {\n",
       "        vertical-align: top;\n",
       "    }\n",
       "\n",
       "    .dataframe thead th {\n",
       "        text-align: right;\n",
       "    }\n",
       "</style>\n",
       "<table border=\"1\" class=\"dataframe\">\n",
       "  <thead>\n",
       "    <tr style=\"text-align: right;\">\n",
       "      <th></th>\n",
       "      <th>school</th>\n",
       "      <th>sex</th>\n",
       "      <th>age</th>\n",
       "      <th>address</th>\n",
       "      <th>famsize</th>\n",
       "      <th>Pstatus</th>\n",
       "      <th>Medu</th>\n",
       "      <th>Fedu</th>\n",
       "      <th>Mjob</th>\n",
       "      <th>Fjob</th>\n",
       "      <th>...</th>\n",
       "      <th>freetime</th>\n",
       "      <th>goout</th>\n",
       "      <th>Dalc</th>\n",
       "      <th>Walc</th>\n",
       "      <th>health</th>\n",
       "      <th>absences</th>\n",
       "      <th>G1</th>\n",
       "      <th>G2</th>\n",
       "      <th>G3</th>\n",
       "      <th>subject</th>\n",
       "    </tr>\n",
       "  </thead>\n",
       "  <tbody>\n",
       "    <tr>\n",
       "      <th>1039</th>\n",
       "      <td>MS</td>\n",
       "      <td>F</td>\n",
       "      <td>19</td>\n",
       "      <td>R</td>\n",
       "      <td>GT3</td>\n",
       "      <td>T</td>\n",
       "      <td>2</td>\n",
       "      <td>3</td>\n",
       "      <td>services</td>\n",
       "      <td>other</td>\n",
       "      <td>...</td>\n",
       "      <td>4</td>\n",
       "      <td>2</td>\n",
       "      <td>1</td>\n",
       "      <td>2</td>\n",
       "      <td>5</td>\n",
       "      <td>4</td>\n",
       "      <td>10</td>\n",
       "      <td>11</td>\n",
       "      <td>10</td>\n",
       "      <td>1</td>\n",
       "    </tr>\n",
       "    <tr>\n",
       "      <th>1040</th>\n",
       "      <td>MS</td>\n",
       "      <td>F</td>\n",
       "      <td>18</td>\n",
       "      <td>U</td>\n",
       "      <td>LE3</td>\n",
       "      <td>T</td>\n",
       "      <td>3</td>\n",
       "      <td>1</td>\n",
       "      <td>teacher</td>\n",
       "      <td>services</td>\n",
       "      <td>...</td>\n",
       "      <td>3</td>\n",
       "      <td>4</td>\n",
       "      <td>1</td>\n",
       "      <td>1</td>\n",
       "      <td>1</td>\n",
       "      <td>4</td>\n",
       "      <td>15</td>\n",
       "      <td>15</td>\n",
       "      <td>16</td>\n",
       "      <td>1</td>\n",
       "    </tr>\n",
       "    <tr>\n",
       "      <th>1041</th>\n",
       "      <td>MS</td>\n",
       "      <td>F</td>\n",
       "      <td>18</td>\n",
       "      <td>U</td>\n",
       "      <td>GT3</td>\n",
       "      <td>T</td>\n",
       "      <td>1</td>\n",
       "      <td>1</td>\n",
       "      <td>other</td>\n",
       "      <td>other</td>\n",
       "      <td>...</td>\n",
       "      <td>1</td>\n",
       "      <td>1</td>\n",
       "      <td>1</td>\n",
       "      <td>1</td>\n",
       "      <td>5</td>\n",
       "      <td>6</td>\n",
       "      <td>11</td>\n",
       "      <td>12</td>\n",
       "      <td>9</td>\n",
       "      <td>1</td>\n",
       "    </tr>\n",
       "    <tr>\n",
       "      <th>1042</th>\n",
       "      <td>MS</td>\n",
       "      <td>M</td>\n",
       "      <td>17</td>\n",
       "      <td>U</td>\n",
       "      <td>LE3</td>\n",
       "      <td>T</td>\n",
       "      <td>3</td>\n",
       "      <td>1</td>\n",
       "      <td>services</td>\n",
       "      <td>services</td>\n",
       "      <td>...</td>\n",
       "      <td>4</td>\n",
       "      <td>5</td>\n",
       "      <td>3</td>\n",
       "      <td>4</td>\n",
       "      <td>2</td>\n",
       "      <td>6</td>\n",
       "      <td>10</td>\n",
       "      <td>10</td>\n",
       "      <td>10</td>\n",
       "      <td>1</td>\n",
       "    </tr>\n",
       "    <tr>\n",
       "      <th>1043</th>\n",
       "      <td>MS</td>\n",
       "      <td>M</td>\n",
       "      <td>18</td>\n",
       "      <td>R</td>\n",
       "      <td>LE3</td>\n",
       "      <td>T</td>\n",
       "      <td>3</td>\n",
       "      <td>2</td>\n",
       "      <td>services</td>\n",
       "      <td>other</td>\n",
       "      <td>...</td>\n",
       "      <td>4</td>\n",
       "      <td>1</td>\n",
       "      <td>3</td>\n",
       "      <td>4</td>\n",
       "      <td>5</td>\n",
       "      <td>4</td>\n",
       "      <td>10</td>\n",
       "      <td>11</td>\n",
       "      <td>11</td>\n",
       "      <td>1</td>\n",
       "    </tr>\n",
       "  </tbody>\n",
       "</table>\n",
       "<p>5 rows × 34 columns</p>\n",
       "</div>"
      ],
      "text/plain": [
       "     school sex  age address famsize Pstatus  Medu  Fedu      Mjob      Fjob  \\\n",
       "1039     MS   F   19       R     GT3       T     2     3  services     other   \n",
       "1040     MS   F   18       U     LE3       T     3     1   teacher  services   \n",
       "1041     MS   F   18       U     GT3       T     1     1     other     other   \n",
       "1042     MS   M   17       U     LE3       T     3     1  services  services   \n",
       "1043     MS   M   18       R     LE3       T     3     2  services     other   \n",
       "\n",
       "      ... freetime goout  Dalc  Walc  health absences  G1  G2  G3 subject  \n",
       "1039  ...        4     2     1     2       5        4  10  11  10       1  \n",
       "1040  ...        3     4     1     1       1        4  15  15  16       1  \n",
       "1041  ...        1     1     1     1       5        6  11  12   9       1  \n",
       "1042  ...        4     5     3     4       2        6  10  10  10       1  \n",
       "1043  ...        4     1     3     4       5        4  10  11  11       1  \n",
       "\n",
       "[5 rows x 34 columns]"
      ]
     },
     "execution_count": 9,
     "metadata": {},
     "output_type": "execute_result"
    }
   ],
   "source": [
    "math_df['subject']=0 #subject value of 0 means it is maths\n",
    "port_df['subject']=1 #subject value of 1 means it is portugese\n",
    "student_data=pd.concat([math_df,port_df],axis=0,ignore_index=True)\n",
    "student_data.tail()\n"
   ]
  },
  {
   "cell_type": "markdown",
   "id": "5d217aae",
   "metadata": {},
   "source": [
    "# Studying the Data"
   ]
  },
  {
   "cell_type": "code",
   "execution_count": 10,
   "id": "6af2fd6d",
   "metadata": {},
   "outputs": [
    {
     "data": {
      "text/html": [
       "<div>\n",
       "<style scoped>\n",
       "    .dataframe tbody tr th:only-of-type {\n",
       "        vertical-align: middle;\n",
       "    }\n",
       "\n",
       "    .dataframe tbody tr th {\n",
       "        vertical-align: top;\n",
       "    }\n",
       "\n",
       "    .dataframe thead th {\n",
       "        text-align: right;\n",
       "    }\n",
       "</style>\n",
       "<table border=\"1\" class=\"dataframe\">\n",
       "  <thead>\n",
       "    <tr style=\"text-align: right;\">\n",
       "      <th></th>\n",
       "      <th>age</th>\n",
       "      <th>Medu</th>\n",
       "      <th>Fedu</th>\n",
       "      <th>traveltime</th>\n",
       "      <th>studytime</th>\n",
       "      <th>failures</th>\n",
       "      <th>famrel</th>\n",
       "      <th>freetime</th>\n",
       "      <th>goout</th>\n",
       "      <th>Dalc</th>\n",
       "      <th>Walc</th>\n",
       "      <th>health</th>\n",
       "      <th>absences</th>\n",
       "      <th>G1</th>\n",
       "      <th>G2</th>\n",
       "      <th>G3</th>\n",
       "      <th>subject</th>\n",
       "    </tr>\n",
       "  </thead>\n",
       "  <tbody>\n",
       "    <tr>\n",
       "      <th>count</th>\n",
       "      <td>1044.000000</td>\n",
       "      <td>1044.000000</td>\n",
       "      <td>1044.000000</td>\n",
       "      <td>1044.000000</td>\n",
       "      <td>1044.000000</td>\n",
       "      <td>1044.000000</td>\n",
       "      <td>1044.000000</td>\n",
       "      <td>1044.000000</td>\n",
       "      <td>1044.000000</td>\n",
       "      <td>1044.000000</td>\n",
       "      <td>1044.000000</td>\n",
       "      <td>1044.000000</td>\n",
       "      <td>1044.000000</td>\n",
       "      <td>1044.000000</td>\n",
       "      <td>1044.000000</td>\n",
       "      <td>1044.000000</td>\n",
       "      <td>1044.000000</td>\n",
       "    </tr>\n",
       "    <tr>\n",
       "      <th>mean</th>\n",
       "      <td>16.726054</td>\n",
       "      <td>2.603448</td>\n",
       "      <td>2.387931</td>\n",
       "      <td>1.522989</td>\n",
       "      <td>1.970307</td>\n",
       "      <td>0.264368</td>\n",
       "      <td>3.935824</td>\n",
       "      <td>3.201149</td>\n",
       "      <td>3.156130</td>\n",
       "      <td>1.494253</td>\n",
       "      <td>2.284483</td>\n",
       "      <td>3.543103</td>\n",
       "      <td>4.434866</td>\n",
       "      <td>11.213602</td>\n",
       "      <td>11.246169</td>\n",
       "      <td>11.341954</td>\n",
       "      <td>0.621648</td>\n",
       "    </tr>\n",
       "    <tr>\n",
       "      <th>std</th>\n",
       "      <td>1.239975</td>\n",
       "      <td>1.124907</td>\n",
       "      <td>1.099938</td>\n",
       "      <td>0.731727</td>\n",
       "      <td>0.834353</td>\n",
       "      <td>0.656142</td>\n",
       "      <td>0.933401</td>\n",
       "      <td>1.031507</td>\n",
       "      <td>1.152575</td>\n",
       "      <td>0.911714</td>\n",
       "      <td>1.285105</td>\n",
       "      <td>1.424703</td>\n",
       "      <td>6.210017</td>\n",
       "      <td>2.983394</td>\n",
       "      <td>3.285071</td>\n",
       "      <td>3.864796</td>\n",
       "      <td>0.485209</td>\n",
       "    </tr>\n",
       "    <tr>\n",
       "      <th>min</th>\n",
       "      <td>15.000000</td>\n",
       "      <td>0.000000</td>\n",
       "      <td>0.000000</td>\n",
       "      <td>1.000000</td>\n",
       "      <td>1.000000</td>\n",
       "      <td>0.000000</td>\n",
       "      <td>1.000000</td>\n",
       "      <td>1.000000</td>\n",
       "      <td>1.000000</td>\n",
       "      <td>1.000000</td>\n",
       "      <td>1.000000</td>\n",
       "      <td>1.000000</td>\n",
       "      <td>0.000000</td>\n",
       "      <td>0.000000</td>\n",
       "      <td>0.000000</td>\n",
       "      <td>0.000000</td>\n",
       "      <td>0.000000</td>\n",
       "    </tr>\n",
       "    <tr>\n",
       "      <th>25%</th>\n",
       "      <td>16.000000</td>\n",
       "      <td>2.000000</td>\n",
       "      <td>1.000000</td>\n",
       "      <td>1.000000</td>\n",
       "      <td>1.000000</td>\n",
       "      <td>0.000000</td>\n",
       "      <td>4.000000</td>\n",
       "      <td>3.000000</td>\n",
       "      <td>2.000000</td>\n",
       "      <td>1.000000</td>\n",
       "      <td>1.000000</td>\n",
       "      <td>3.000000</td>\n",
       "      <td>0.000000</td>\n",
       "      <td>9.000000</td>\n",
       "      <td>9.000000</td>\n",
       "      <td>10.000000</td>\n",
       "      <td>0.000000</td>\n",
       "    </tr>\n",
       "    <tr>\n",
       "      <th>50%</th>\n",
       "      <td>17.000000</td>\n",
       "      <td>3.000000</td>\n",
       "      <td>2.000000</td>\n",
       "      <td>1.000000</td>\n",
       "      <td>2.000000</td>\n",
       "      <td>0.000000</td>\n",
       "      <td>4.000000</td>\n",
       "      <td>3.000000</td>\n",
       "      <td>3.000000</td>\n",
       "      <td>1.000000</td>\n",
       "      <td>2.000000</td>\n",
       "      <td>4.000000</td>\n",
       "      <td>2.000000</td>\n",
       "      <td>11.000000</td>\n",
       "      <td>11.000000</td>\n",
       "      <td>11.000000</td>\n",
       "      <td>1.000000</td>\n",
       "    </tr>\n",
       "    <tr>\n",
       "      <th>75%</th>\n",
       "      <td>18.000000</td>\n",
       "      <td>4.000000</td>\n",
       "      <td>3.000000</td>\n",
       "      <td>2.000000</td>\n",
       "      <td>2.000000</td>\n",
       "      <td>0.000000</td>\n",
       "      <td>5.000000</td>\n",
       "      <td>4.000000</td>\n",
       "      <td>4.000000</td>\n",
       "      <td>2.000000</td>\n",
       "      <td>3.000000</td>\n",
       "      <td>5.000000</td>\n",
       "      <td>6.000000</td>\n",
       "      <td>13.000000</td>\n",
       "      <td>13.000000</td>\n",
       "      <td>14.000000</td>\n",
       "      <td>1.000000</td>\n",
       "    </tr>\n",
       "    <tr>\n",
       "      <th>max</th>\n",
       "      <td>22.000000</td>\n",
       "      <td>4.000000</td>\n",
       "      <td>4.000000</td>\n",
       "      <td>4.000000</td>\n",
       "      <td>4.000000</td>\n",
       "      <td>3.000000</td>\n",
       "      <td>5.000000</td>\n",
       "      <td>5.000000</td>\n",
       "      <td>5.000000</td>\n",
       "      <td>5.000000</td>\n",
       "      <td>5.000000</td>\n",
       "      <td>5.000000</td>\n",
       "      <td>75.000000</td>\n",
       "      <td>19.000000</td>\n",
       "      <td>19.000000</td>\n",
       "      <td>20.000000</td>\n",
       "      <td>1.000000</td>\n",
       "    </tr>\n",
       "  </tbody>\n",
       "</table>\n",
       "</div>"
      ],
      "text/plain": [
       "               age         Medu         Fedu   traveltime    studytime  \\\n",
       "count  1044.000000  1044.000000  1044.000000  1044.000000  1044.000000   \n",
       "mean     16.726054     2.603448     2.387931     1.522989     1.970307   \n",
       "std       1.239975     1.124907     1.099938     0.731727     0.834353   \n",
       "min      15.000000     0.000000     0.000000     1.000000     1.000000   \n",
       "25%      16.000000     2.000000     1.000000     1.000000     1.000000   \n",
       "50%      17.000000     3.000000     2.000000     1.000000     2.000000   \n",
       "75%      18.000000     4.000000     3.000000     2.000000     2.000000   \n",
       "max      22.000000     4.000000     4.000000     4.000000     4.000000   \n",
       "\n",
       "          failures       famrel     freetime        goout         Dalc  \\\n",
       "count  1044.000000  1044.000000  1044.000000  1044.000000  1044.000000   \n",
       "mean      0.264368     3.935824     3.201149     3.156130     1.494253   \n",
       "std       0.656142     0.933401     1.031507     1.152575     0.911714   \n",
       "min       0.000000     1.000000     1.000000     1.000000     1.000000   \n",
       "25%       0.000000     4.000000     3.000000     2.000000     1.000000   \n",
       "50%       0.000000     4.000000     3.000000     3.000000     1.000000   \n",
       "75%       0.000000     5.000000     4.000000     4.000000     2.000000   \n",
       "max       3.000000     5.000000     5.000000     5.000000     5.000000   \n",
       "\n",
       "              Walc       health     absences           G1           G2  \\\n",
       "count  1044.000000  1044.000000  1044.000000  1044.000000  1044.000000   \n",
       "mean      2.284483     3.543103     4.434866    11.213602    11.246169   \n",
       "std       1.285105     1.424703     6.210017     2.983394     3.285071   \n",
       "min       1.000000     1.000000     0.000000     0.000000     0.000000   \n",
       "25%       1.000000     3.000000     0.000000     9.000000     9.000000   \n",
       "50%       2.000000     4.000000     2.000000    11.000000    11.000000   \n",
       "75%       3.000000     5.000000     6.000000    13.000000    13.000000   \n",
       "max       5.000000     5.000000    75.000000    19.000000    19.000000   \n",
       "\n",
       "                G3      subject  \n",
       "count  1044.000000  1044.000000  \n",
       "mean     11.341954     0.621648  \n",
       "std       3.864796     0.485209  \n",
       "min       0.000000     0.000000  \n",
       "25%      10.000000     0.000000  \n",
       "50%      11.000000     1.000000  \n",
       "75%      14.000000     1.000000  \n",
       "max      20.000000     1.000000  "
      ]
     },
     "execution_count": 10,
     "metadata": {},
     "output_type": "execute_result"
    }
   ],
   "source": [
    "student_data.describe()"
   ]
  },
  {
   "cell_type": "code",
   "execution_count": 11,
   "id": "5f2a4a49",
   "metadata": {},
   "outputs": [
    {
     "data": {
      "text/plain": [
       "school        object\n",
       "sex           object\n",
       "age            int64\n",
       "address       object\n",
       "famsize       object\n",
       "Pstatus       object\n",
       "Medu           int64\n",
       "Fedu           int64\n",
       "Mjob          object\n",
       "Fjob          object\n",
       "reason        object\n",
       "guardian      object\n",
       "traveltime     int64\n",
       "studytime      int64\n",
       "failures       int64\n",
       "schoolsup     object\n",
       "famsup        object\n",
       "paid          object\n",
       "activities    object\n",
       "nursery       object\n",
       "higher        object\n",
       "internet      object\n",
       "romantic      object\n",
       "famrel         int64\n",
       "freetime       int64\n",
       "goout          int64\n",
       "Dalc           int64\n",
       "Walc           int64\n",
       "health         int64\n",
       "absences       int64\n",
       "G1             int64\n",
       "G2             int64\n",
       "G3             int64\n",
       "subject        int64\n",
       "dtype: object"
      ]
     },
     "execution_count": 11,
     "metadata": {},
     "output_type": "execute_result"
    }
   ],
   "source": [
    "student_data.dtypes # the types of the features in dataset"
   ]
  },
  {
   "cell_type": "code",
   "execution_count": 12,
   "id": "f11b0d41",
   "metadata": {},
   "outputs": [
    {
     "data": {
      "text/plain": [
       "(1044, 34)"
      ]
     },
     "execution_count": 12,
     "metadata": {},
     "output_type": "execute_result"
    }
   ],
   "source": [
    "student_data.shape # shape of the data"
   ]
  },
  {
   "cell_type": "code",
   "execution_count": 13,
   "id": "06d2f82d",
   "metadata": {},
   "outputs": [
    {
     "data": {
      "text/plain": [
       "35496"
      ]
     },
     "execution_count": 13,
     "metadata": {},
     "output_type": "execute_result"
    }
   ],
   "source": [
    "student_data.size # the total elements in the data"
   ]
  },
  {
   "cell_type": "markdown",
   "id": "db540176",
   "metadata": {},
   "source": [
    "## Obsertvation \n",
    "#### The data is a mixed type since it has integer type features but also some object/string type features and there are 33 total features for the subjects"
   ]
  },
  {
   "cell_type": "markdown",
   "id": "139b464a",
   "metadata": {},
   "source": [
    "## Are there any missing values in the data?"
   ]
  },
  {
   "cell_type": "code",
   "execution_count": 14,
   "id": "d8fcbb93",
   "metadata": {},
   "outputs": [
    {
     "data": {
      "text/plain": [
       "0"
      ]
     },
     "execution_count": 14,
     "metadata": {},
     "output_type": "execute_result"
    }
   ],
   "source": [
    "student_data.isnull().sum().sum() # finding the total null values in the  data"
   ]
  },
  {
   "cell_type": "code",
   "execution_count": 15,
   "id": "13895787",
   "metadata": {},
   "outputs": [
    {
     "data": {
      "text/plain": [
       "[Text(0.5, 1.0, 'Figure 1 : Missing data in the dataframe')]"
      ]
     },
     "execution_count": 15,
     "metadata": {},
     "output_type": "execute_result"
    },
    {
     "data": {
      "image/png": "[encoded data removed]",
      "text/plain": [
       "<Figure size 640x480 with 2 Axes>"
      ]
     },
     "metadata": {},
     "output_type": "display_data"
    }
   ],
   "source": [
    "sns.heatmap(student_data.isnull(),cmap=\"rocket\",yticklabels=False).set(title='Figure 1 : Missing data in the dataframe')"
   ]
  },
  {
   "cell_type": "markdown",
   "id": "2cb6f830",
   "metadata": {},
   "source": [
    "## Conclusion : There are no missing values in the data"
   ]
  },
  {
   "cell_type": "markdown",
   "id": "1dd3af50",
   "metadata": {},
   "source": [
    "# Descriptive Analysis of the Data"
   ]
  },
  {
   "cell_type": "markdown",
   "id": "0cc419b4",
   "metadata": {},
   "source": [
    "### What is the distribution of the data,the standard deviation , mean, etc?"
   ]
  },
  {
   "cell_type": "code",
   "execution_count": null,
   "id": "9f70c52e",
   "metadata": {
    "collapsed": true
   },
   "outputs": [],
   "source": [
    "#Although we can see that the data doesn't have any null values, one thing to note is that G3 values have zeros in it. \n",
    "student_data['G3'].value_counts()[0]"
   ]
  },
  {
   "cell_type": "markdown",
   "id": "07eaacef",
   "metadata": {},
   "source": [
    "### 53  too high for number of students with zero marks in the final grade,a lower score is understandable but a straight 0 is very unlikely, there is something the dataset doesn't take into consideration ,maybe some students did not attend the final exam , or didn't qualify for it. Such instances should be dropped because they will hamper the effectiveness of the prediction model , even if we replace by mean or 0, so they need to be dropped"
   ]
  },
  {
   "cell_type": "code",
   "execution_count": null,
   "id": "0ac12929",
   "metadata": {
    "collapsed": true
   },
   "outputs": [],
   "source": [
    "student_data=student_data.drop(student_data[student_data['G3']==0].index)"
   ]
  },
  {
   "cell_type": "code",
   "execution_count": null,
   "id": "b2362033",
   "metadata": {
    "collapsed": true
   },
   "outputs": [],
   "source": [
    "student_data['G3'].value_counts()\n",
    "#we can now see the data does not have any 0 values for the final grade"
   ]
  },
  {
   "cell_type": "markdown",
   "id": "8837979b",
   "metadata": {},
   "source": [
    "## The features and their datatypes"
   ]
  },
  {
   "cell_type": "code",
   "execution_count": null,
   "id": "dc7af949",
   "metadata": {
    "collapsed": true
   },
   "outputs": [],
   "source": [
    "student_data.info()"
   ]
  },
  {
   "cell_type": "markdown",
   "id": "fcb209dd",
   "metadata": {},
   "source": [
    "### Each subject data contains 31 factors excluding the target , but some of these factors have a much more significant affect on the target , so it is reasonable to choose the factors that seem most important to carry out the visual data exploration"
   ]
  },
  {
   "cell_type": "markdown",
   "id": "b3e73679",
   "metadata": {},
   "source": [
    "### Basic Distribution and properties of some of the features"
   ]
  },
  {
   "cell_type": "code",
   "execution_count": null,
   "id": "7cfca7b4",
   "metadata": {
    "collapsed": true
   },
   "outputs": [],
   "source": [
    "sns.catplot(x='G3',data=student_data,kind='count').set(title='Figure 2 : Final Grade Distribution')"
   ]
  },
  {
   "cell_type": "code",
   "execution_count": null,
   "id": "cb17677c",
   "metadata": {
    "collapsed": true
   },
   "outputs": [],
   "source": [
    "sns.catplot(x='sex',data=student_data,kind='count').set(title='Figure 3 : Gender Distribution')"
   ]
  },
  {
   "cell_type": "code",
   "execution_count": null,
   "id": "43e33257",
   "metadata": {
    "collapsed": true
   },
   "outputs": [],
   "source": [
    "sns.catplot(x='school',data=student_data,kind='count').set(title='Figure 4 : School Distribution')"
   ]
  },
  {
   "cell_type": "code",
   "execution_count": null,
   "id": "3ffb998e",
   "metadata": {
    "collapsed": true
   },
   "outputs": [],
   "source": [
    "sns.catplot(x='famsize',data=student_data,kind='count').set(title='Figure 5 : Family Distribution')"
   ]
  },
  {
   "cell_type": "code",
   "execution_count": null,
   "id": "2831d171",
   "metadata": {
    "collapsed": true
   },
   "outputs": [],
   "source": [
    "sns.catplot(x='failures',data=student_data,kind='count').set(title='Figure 6 : Failures Distribution')"
   ]
  },
  {
   "cell_type": "code",
   "execution_count": null,
   "id": "96d62352",
   "metadata": {
    "collapsed": true
   },
   "outputs": [],
   "source": [
    "sns.catplot(x='age',data=student_data,kind='count').set(title='Figure 7 : Age Distrubution')"
   ]
  },
  {
   "cell_type": "code",
   "execution_count": null,
   "id": "6cc1d4a9",
   "metadata": {
    "collapsed": true
   },
   "outputs": [],
   "source": [
    "sns.catplot(x='Fedu',data=student_data,kind='count').set(title='Figure 8 : Father Education Distrubution')"
   ]
  },
  {
   "cell_type": "code",
   "execution_count": null,
   "id": "6325ed54",
   "metadata": {
    "collapsed": true
   },
   "outputs": [],
   "source": [
    "sns.catplot(x='Fjob',data=student_data,kind='count').set(title='Figure 9 : Father Job Distrubution')"
   ]
  },
  {
   "cell_type": "code",
   "execution_count": null,
   "id": "ab3b2231",
   "metadata": {
    "collapsed": true
   },
   "outputs": [],
   "source": [
    "sns.catplot(x='Mjob',data=student_data,kind='count').set(title='Figure 10 : Mother Job Distrubution')"
   ]
  },
  {
   "cell_type": "code",
   "execution_count": null,
   "id": "d25cdea8",
   "metadata": {
    "collapsed": true
   },
   "outputs": [],
   "source": [
    "sns.catplot(x='Medu',data=student_data,kind='count').set(title='Figure 11 : Mother Education Distrubution')"
   ]
  },
  {
   "cell_type": "code",
   "execution_count": null,
   "id": "85d7bc04",
   "metadata": {
    "collapsed": true
   },
   "outputs": [],
   "source": [
    "sns.catplot(x='health',data=student_data,kind='count').set(title='Figure 12 : Health of Students Distrubution')"
   ]
  },
  {
   "cell_type": "code",
   "execution_count": null,
   "id": "6f09a388",
   "metadata": {
    "collapsed": true
   },
   "outputs": [],
   "source": [
    "sns.catplot(x='romantic',data=student_data,kind='count').set(title='Figure 13 : Romance Distrubution')"
   ]
  },
  {
   "cell_type": "code",
   "execution_count": null,
   "id": "6088217d",
   "metadata": {
    "collapsed": true
   },
   "outputs": [],
   "source": [
    "sns.catplot(x='studytime',data=student_data,kind='count').set(title='Figure 14 : Study Time Distrubution')"
   ]
  },
  {
   "cell_type": "code",
   "execution_count": null,
   "id": "ebf9e1e5",
   "metadata": {
    "collapsed": true
   },
   "outputs": [],
   "source": [
    "age_den = sns.kdeplot(student_data['age'])    \n",
    "age_den.axes.set_title('Figure 15 : Distribution of ages ')\n",
    "age_den.set_xlabel('Age')\n",
    "age_den.set_ylabel('Density')\n",
    "plt.show()"
   ]
  },
  {
   "cell_type": "code",
   "execution_count": null,
   "id": "4ced3374",
   "metadata": {
    "collapsed": true
   },
   "outputs": [],
   "source": [
    "sns.catplot(x='activities',data=student_data,kind='count').set(title='Figure 16 : Do students take part in activities')"
   ]
  },
  {
   "cell_type": "code",
   "execution_count": null,
   "id": "75856356",
   "metadata": {
    "collapsed": true
   },
   "outputs": [],
   "source": [
    "labels = student_data['reason'].unique()\n",
    "vals=np.array(student_data['reason'].value_counts())\n",
    "explode=(0.1,0.1,0.1,0.1)\n",
    "plt.title('Figure 17 : Reasons for Studying')\n",
    "plt.pie(vals, labels=labels,explode=explode, autopct='%1.1f%%')\n"
   ]
  },
  {
   "cell_type": "code",
   "execution_count": null,
   "id": "ff843e2e",
   "metadata": {
    "collapsed": true
   },
   "outputs": [],
   "source": [
    "sns.catplot(x='higher',data=student_data,kind='count').set(title='Figure 18 : Do the students want to pursue Higher Education ? ')"
   ]
  },
  {
   "cell_type": "code",
   "execution_count": null,
   "id": "8134e56d",
   "metadata": {
    "collapsed": true
   },
   "outputs": [],
   "source": [
    "sns.catplot(x='address',data=student_data,kind='count').set(title='Figure 19 : Do More Students live in rural or urban areas ')"
   ]
  },
  {
   "cell_type": "markdown",
   "id": "c5b889ec",
   "metadata": {},
   "source": [
    "## Observations : Females students are slightly more common than male students, most of the students are aged 16-18, most of the students are studying because they like the course, and most of the students want to pursue higher education\n"
   ]
  },
  {
   "cell_type": "markdown",
   "id": "3000cae1",
   "metadata": {},
   "source": [
    "## Now let's observe some of the dependies on the factos with each other"
   ]
  },
  {
   "cell_type": "markdown",
   "id": "9b8bd915",
   "metadata": {},
   "source": [
    "### How are the features correlated to each other?\n"
   ]
  },
  {
   "cell_type": "code",
   "execution_count": null,
   "id": "ec4b9e0b",
   "metadata": {
    "collapsed": true
   },
   "outputs": [],
   "source": [
    "data=student_data.corr()\n",
    "plt.figure(figsize=(20,20))\n",
    "sns.heatmap(data, cmap=\"rocket\")\n",
    "plt.title('Figure 20 : Correlation Heatmap for the attributes', fontsize=20)"
   ]
  },
  {
   "cell_type": "code",
   "execution_count": null,
   "id": "1da6294f",
   "metadata": {
    "collapsed": true
   },
   "outputs": [],
   "source": [
    "\n",
    "sns.countplot(x='age',hue='sex', data=student_data, palette='rocket').set(title=('Figure 21 : Age according to Gender'))\n",
    "\n"
   ]
  },
  {
   "cell_type": "code",
   "execution_count": null,
   "id": "c4af531d",
   "metadata": {
    "collapsed": true
   },
   "outputs": [],
   "source": [
    "\n",
    "sns.countplot(x='higher',hue='studytime', data=student_data, palette='rocket').set(title=('Figure 22 : Study Time of the student if they want to pursue higher education'))\n",
    "\n"
   ]
  },
  {
   "cell_type": "code",
   "execution_count": null,
   "id": "e57142d4",
   "metadata": {
    "collapsed": true
   },
   "outputs": [],
   "source": [
    "sns.catplot(x=\"reason\",y=\"studytime\", kind=\"box\",data=student_data,palette='rocket').set(title='Figure 23 :Student study time depending on their reason to study')"
   ]
  },
  {
   "cell_type": "code",
   "execution_count": null,
   "id": "f3ffbd63",
   "metadata": {
    "collapsed": true
   },
   "outputs": [],
   "source": [
    "sns.catplot(x=\"reason\",y=\"G3\", kind=\"box\",data=student_data,palette='rocket').set(title='Figure 24 :Student final grade depending on their reason to study')"
   ]
  },
  {
   "cell_type": "code",
   "execution_count": null,
   "id": "eabcea84",
   "metadata": {
    "collapsed": true
   },
   "outputs": [],
   "source": [
    "\n",
    "sns.countplot(x='higher',hue='Fedu', data=student_data, palette='rocket').set(title=('Figure 25 : Will the students pursue higher education depending on the education level of their father'))\n",
    "\n"
   ]
  },
  {
   "cell_type": "code",
   "execution_count": null,
   "id": "86e4ce27",
   "metadata": {
    "collapsed": true
   },
   "outputs": [],
   "source": [
    "\n",
    "sns.countplot(x='romantic',hue='studytime', data=student_data, palette='rocket').set(title=('Figure 26 : Study Time vs Romance'))\n",
    "\n"
   ]
  },
  {
   "cell_type": "code",
   "execution_count": null,
   "id": "5c3cb740",
   "metadata": {
    "collapsed": true
   },
   "outputs": [],
   "source": [
    "\n",
    "sns.countplot(x='famrel',hue='studytime', data=student_data, palette='rocket').set(title=('Figure 27 : Family Relation vs Study Time'))\n",
    "\n"
   ]
  },
  {
   "cell_type": "code",
   "execution_count": null,
   "id": "1bd4e2f7",
   "metadata": {
    "collapsed": true
   },
   "outputs": [],
   "source": [
    "\n",
    "sns.countplot(x='internet',hue='studytime', data=student_data, palette='rocket').set(title=('Figure 28 : Internet vs Study Time'))\n",
    "\n"
   ]
  },
  {
   "cell_type": "code",
   "execution_count": null,
   "id": "a54ddd7b",
   "metadata": {
    "collapsed": true
   },
   "outputs": [],
   "source": [
    "\n",
    "sns.countplot(x='famsize',hue='studytime', data=student_data, palette='rocket').set(title=('Figure 29 : Study Time vs Family Size'))\n",
    "\n"
   ]
  },
  {
   "cell_type": "code",
   "execution_count": null,
   "id": "12b63026",
   "metadata": {
    "collapsed": true
   },
   "outputs": [],
   "source": []
  },
  {
   "cell_type": "markdown",
   "id": "1c50b864",
   "metadata": {},
   "source": [
    "## Observations : \n",
    "### - Students who study more tend to achieve better final grades\n",
    "### - Students are more likely to pursue higher education if their father is well educated\n",
    "### - Students  tend to study more if their motivation for studying is reputation\n",
    "### - Students tend to study more if they want to pursue higher education\n",
    "### - Females generally start their education at a younger age\n",
    "### - Father job and mother job are moderately correlated"
   ]
  },
  {
   "cell_type": "markdown",
   "id": "ce3a5c82",
   "metadata": {},
   "source": [
    "# Now let's visually inspect how each feature affects the final grade"
   ]
  },
  {
   "cell_type": "code",
   "execution_count": null,
   "id": "118d005a",
   "metadata": {
    "collapsed": true
   },
   "outputs": [],
   "source": [
    "sns.catplot(x=\"sex\",y=\"G3\", kind=\"box\",data=student_data,palette='rocket').set(title='Figure 30 : Student final grade depending on their gender')"
   ]
  },
  {
   "cell_type": "code",
   "execution_count": null,
   "id": "5820d9ea",
   "metadata": {
    "collapsed": true
   },
   "outputs": [],
   "source": [
    "sns.kdeplot(student_data.loc[student_data['sex'] == 'M', 'G3'], label='Male', shade = True,palette='rocket')\n",
    "sns.kdeplot(student_data.loc[student_data['sex'] == 'F', 'G3'], label='Female', shade = True,palette='rocket')\n",
    "plt.title('Figure 31 : Male vs Female Student Performance')\n",
    "plt.xlabel('Final Grade');\n",
    "plt.ylabel('Density')\n",
    "plt.show()"
   ]
  },
  {
   "cell_type": "code",
   "execution_count": null,
   "id": "c5ad6dbd",
   "metadata": {
    "collapsed": true
   },
   "outputs": [],
   "source": [
    "sns.catplot(x=\"address\",y=\"G3\", kind=\"box\",data=student_data).set(title='Figure 32 : Final Grade for Rural vs Urban Students')"
   ]
  },
  {
   "cell_type": "code",
   "execution_count": null,
   "id": "aa8cf701",
   "metadata": {
    "collapsed": true
   },
   "outputs": [],
   "source": [
    "sns.kdeplot(student_data.loc[student_data['address'] == 'U', 'G3'], label='Urban', shade = True)\n",
    "sns.kdeplot(student_data.loc[student_data['address'] == 'R', 'G3'], label='Rural', shade = True)\n",
    "plt.title('Figure 33 : Rural vs Urban Student Performance')\n",
    "plt.xlabel('Final Grade');\n",
    "plt.ylabel('Density')\n",
    "plt.show()"
   ]
  },
  {
   "cell_type": "code",
   "execution_count": null,
   "id": "3a59f282",
   "metadata": {
    "collapsed": true
   },
   "outputs": [],
   "source": [
    "Second_Grade = student_data['G2']\n",
    "Final_Grade = student_data['G3']  \n",
    "plt. scatter (Second_Grade,Final_Grade)  \n",
    "plt. plot(np.unique (Second_Grade), np.poly1d (np.polyfit (Second_Grade, Final_Grade, 1))(np.unique(Second_Grade)), color = 'red')\n",
    "plt. title ('Figure 34 : Correlation between Second and Final Year Grades') \n",
    "plt. xlabel ('G2')  \n",
    "plt. ylabel ('G3')  \n"
   ]
  },
  {
   "cell_type": "code",
   "execution_count": null,
   "id": "bb3bd84b",
   "metadata": {
    "collapsed": true
   },
   "outputs": [],
   "source": [
    "sns.boxplot(x='age', y='G3',data=student_data,palette='rocket').set(title='Figure 35 : Age vs Final Grade')\n"
   ]
  },
  {
   "cell_type": "code",
   "execution_count": null,
   "id": "3f79de24",
   "metadata": {
    "collapsed": true
   },
   "outputs": [],
   "source": [
    "sns.swarmplot(x='age', y='G3', data=student_data,palette='rocket').set(title='Figure 36 : Age vs Final Grade Distribution ')"
   ]
  },
  {
   "cell_type": "code",
   "execution_count": null,
   "id": "f4c1951f",
   "metadata": {
    "collapsed": true
   },
   "outputs": [],
   "source": [
    "sns.boxplot(x='failures', y='G3',data=student_data,palette='rocket').set(title='Figure 37 : Failures vs Final Grade')\n"
   ]
  },
  {
   "cell_type": "code",
   "execution_count": null,
   "id": "95ffb6df",
   "metadata": {
    "collapsed": true
   },
   "outputs": [],
   "source": [
    "sns.swarmplot(x=student_data['failures'],y=student_data['G3'],palette='rocket').set(title='Figure 38 : Failures vs Final Grade')"
   ]
  },
  {
   "cell_type": "code",
   "execution_count": null,
   "id": "1b49771b",
   "metadata": {
    "collapsed": true
   },
   "outputs": [],
   "source": [
    "sns.boxplot(x='studytime', y='G3',data=student_data,palette='rocket').set(title='Figure 39 : Study Time vs Final Grade')\n"
   ]
  },
  {
   "cell_type": "code",
   "execution_count": null,
   "id": "9f39d3c9",
   "metadata": {
    "collapsed": true
   },
   "outputs": [],
   "source": [
    "sns.boxplot(x='higher', y='G3',data=student_data,palette='rocket').set(title='Figure 40 : Decision of Higher Education  vs Final Grade')\n"
   ]
  },
  {
   "cell_type": "code",
   "execution_count": null,
   "id": "932a42f4",
   "metadata": {
    "collapsed": true
   },
   "outputs": [],
   "source": [
    "sns.boxplot(x='Fjob', y='G3',data=student_data,palette='rocket').set(title='Figure 41 :Father Job vs Final Grade')\n"
   ]
  },
  {
   "cell_type": "code",
   "execution_count": null,
   "id": "4c3c4710",
   "metadata": {
    "collapsed": true
   },
   "outputs": [],
   "source": [
    "sns.boxplot(x='Mjob', y='G3',data=student_data,palette='rocket').set(title='Figure 42 : Mother Job  vs Final Grade')\n"
   ]
  },
  {
   "cell_type": "code",
   "execution_count": null,
   "id": "d747d5ac",
   "metadata": {
    "collapsed": true
   },
   "outputs": [],
   "source": [
    "sns.boxplot(x='Medu', y='G3',data=student_data,palette='rocket').set(title='Figure 43 : Mother Education  vs Final Grade')\n"
   ]
  },
  {
   "cell_type": "code",
   "execution_count": null,
   "id": "fa6ed28f",
   "metadata": {
    "collapsed": true
   },
   "outputs": [],
   "source": [
    "sns.boxplot(x='school', y='G3',data=student_data,palette='rocket').set(title='Figure 44 : School  vs Final Grade')\n"
   ]
  },
  {
   "cell_type": "code",
   "execution_count": null,
   "id": "f68054a3",
   "metadata": {
    "collapsed": true
   },
   "outputs": [],
   "source": [
    "sns.boxplot(x='health', y='G3',data=student_data,palette='rocket').set(title='Figure 45 : Health  vs Final Grade')\n"
   ]
  },
  {
   "cell_type": "code",
   "execution_count": null,
   "id": "a8c3ca6f",
   "metadata": {
    "collapsed": true
   },
   "outputs": [],
   "source": [
    "sns.boxplot(x='freetime', y='G3',data=student_data,palette='rocket').set(title='Figure 46 : Free time vs Final Grade')\n"
   ]
  },
  {
   "cell_type": "code",
   "execution_count": null,
   "id": "d7a2a195",
   "metadata": {
    "collapsed": true
   },
   "outputs": [],
   "source": [
    "sns.boxplot(x='guardian', y='G3',data=student_data,palette='rocket').set(title='Figure 47 :Guardian  vs Final Grade')\n"
   ]
  },
  {
   "cell_type": "code",
   "execution_count": null,
   "id": "a66aa3b1",
   "metadata": {
    "collapsed": true
   },
   "outputs": [],
   "source": [
    "sns.boxplot(x='Pstatus', y='G3',data=student_data,palette='rocket').set(title='Figure 48 : Parent Status  vs Final Grade')\n"
   ]
  },
  {
   "cell_type": "code",
   "execution_count": null,
   "id": "e7a1563e",
   "metadata": {
    "collapsed": true
   },
   "outputs": [],
   "source": [
    "sns.boxplot(x='Fedu', y='G3',data=student_data,palette='rocket').set(title='Figure 49 :Father Education vs Final Grade')\n"
   ]
  },
  {
   "cell_type": "code",
   "execution_count": null,
   "id": "a1f09f48",
   "metadata": {
    "collapsed": true
   },
   "outputs": [],
   "source": [
    "sns.boxplot(x='famsize', y='G3',data=student_data,palette='rocket').set(title='Figure 50 : Family Size  vs Final Grade')\n"
   ]
  },
  {
   "cell_type": "code",
   "execution_count": null,
   "id": "9c02e4eb",
   "metadata": {
    "collapsed": true
   },
   "outputs": [],
   "source": []
  },
  {
   "cell_type": "markdown",
   "id": "3b1eb2a3",
   "metadata": {},
   "source": [
    "## Observations : \n",
    "### - Students who study more tend to achieve better final grades\n",
    "### - Students who want to pursue higher education get better final grades\n",
    "### - Students with less failures get a better final grade\n",
    "### - Older students are more consistent\n",
    "### - Urban students tend to do a bit better\n"
   ]
  },
  {
   "cell_type": "code",
   "execution_count": null,
   "id": "271c944c",
   "metadata": {
    "collapsed": true
   },
   "outputs": [],
   "source": []
  },
  {
   "cell_type": "markdown",
   "id": "32cf49b0",
   "metadata": {},
   "source": [
    "## Let's get the values of correlation between the final grade and other features"
   ]
  },
  {
   "cell_type": "code",
   "execution_count": 18,
   "id": "feb4f87b",
   "metadata": {},
   "outputs": [
    {
     "name": "stderr",
     "output_type": "stream",
     "text": [
      "C:\\Users\\maab9\\AppData\\Local\\Temp\\ipykernel_17240\\2283125108.py:1: FutureWarning: The default value of numeric_only in DataFrame.corr is deprecated. In a future version, it will default to False. Select only valid columns or specify the value of numeric_only to silence this warning.\n",
      "  student_data.corr()['G3'].sort_values() #sorting by value to see which feature has most effect\n"
     ]
    },
    {
     "data": {
      "text/plain": [
       "failures     -0.383145\n",
       "Dalc         -0.129642\n",
       "age          -0.125282\n",
       "Walc         -0.115740\n",
       "traveltime   -0.102627\n",
       "goout        -0.097877\n",
       "health       -0.080079\n",
       "freetime     -0.064890\n",
       "absences     -0.045671\n",
       "famrel        0.054461\n",
       "Fedu          0.159796\n",
       "studytime     0.161629\n",
       "subject       0.187166\n",
       "Medu          0.201472\n",
       "G1            0.809142\n",
       "G2            0.910743\n",
       "G3            1.000000\n",
       "Name: G3, dtype: float64"
      ]
     },
     "execution_count": 18,
     "metadata": {},
     "output_type": "execute_result"
    }
   ],
   "source": [
    "student_data.corr()['G3'].sort_values() #sorting by value to see which feature has most effect"
   ]
  },
  {
   "cell_type": "markdown",
   "id": "2b091fd3",
   "metadata": {},
   "source": [
    "## We can see that a lot of features are being left out because they are categorical , we should convert them to numeric values by encoding"
   ]
  },
  {
   "cell_type": "code",
   "execution_count": 39,
   "id": "fd308526",
   "metadata": {},
   "outputs": [
    {
     "data": {
      "text/plain": [
       "mother    728\n",
       "father    243\n",
       "other      73\n",
       "Name: guardian, dtype: int64"
      ]
     },
     "execution_count": 39,
     "metadata": {},
     "output_type": "execute_result"
    }
   ],
   "source": [
    "#student_data.iloc[:,8].value_counts()\n",
    "#student_data.iloc[:,9].value_counts()\n",
    "#student_data.iloc[:,10].value_counts()\n",
    "#student_data.iloc[:,11].value_counts()"
   ]
  },
  {
   "cell_type": "code",
   "execution_count": 40,
   "id": "a3176613",
   "metadata": {},
   "outputs": [],
   "source": [
    "mj_dummies=pd.get_dummies(student_data['Mjob'])\n",
    "fj_dummies=pd.get_dummies(student_data['Fjob'])\n",
    "reason_dummies=pd.get_dummies(student_data['reason'])\n",
    "guardian_dummies=pd.get_dummies(student_data['guardian'])\n"
   ]
  },
  {
   "cell_type": "code",
   "execution_count": 47,
   "id": "90e7644e",
   "metadata": {},
   "outputs": [],
   "source": [
    "encoded_features = pd.concat([mj_dummies,fj_dummies,reason_dummies,guardian_dummies],axis='columns')\n",
    "student_data = pd.concat([student_data,encoded_features],axis='columns')"
   ]
  },
  {
   "cell_type": "code",
   "execution_count": 49,
   "id": "10af6d13",
   "metadata": {},
   "outputs": [],
   "source": [
    "from sklearn.preprocessing import LabelEncoder #importing the encoder from the sklearn library\n",
    "conv=LabelEncoder() #creating an encoder model"
   ]
  },
  {
   "cell_type": "code",
   "execution_count": 50,
   "id": "ea13d78d",
   "metadata": {
    "collapsed": true
   },
   "outputs": [
    {
     "name": "stderr",
     "output_type": "stream",
     "text": [
      "C:\\Users\\maab9\\AppData\\Local\\Temp\\ipykernel_17240\\4013842939.py:2: DeprecationWarning: In a future version, `df.iloc[:, i] = newvals` will attempt to set the values inplace instead of always setting a new array. To retain the old behavior, use either `df[df.columns[i]] = newvals` or, if columns are non-unique, `df.isetitem(i, newvals)`\n",
      "  student_data.iloc[:,0]=conv.fit_transform(student_data.iloc[:,0])\n",
      "C:\\Users\\maab9\\AppData\\Local\\Temp\\ipykernel_17240\\4013842939.py:3: DeprecationWarning: In a future version, `df.iloc[:, i] = newvals` will attempt to set the values inplace instead of always setting a new array. To retain the old behavior, use either `df[df.columns[i]] = newvals` or, if columns are non-unique, `df.isetitem(i, newvals)`\n",
      "  student_data.iloc[:,1]=conv.fit_transform(student_data.iloc[:,1])\n",
      "C:\\Users\\maab9\\AppData\\Local\\Temp\\ipykernel_17240\\4013842939.py:4: DeprecationWarning: In a future version, `df.iloc[:, i] = newvals` will attempt to set the values inplace instead of always setting a new array. To retain the old behavior, use either `df[df.columns[i]] = newvals` or, if columns are non-unique, `df.isetitem(i, newvals)`\n",
      "  student_data.iloc[:,3]=conv.fit_transform(student_data.iloc[:,3])\n",
      "C:\\Users\\maab9\\AppData\\Local\\Temp\\ipykernel_17240\\4013842939.py:5: DeprecationWarning: In a future version, `df.iloc[:, i] = newvals` will attempt to set the values inplace instead of always setting a new array. To retain the old behavior, use either `df[df.columns[i]] = newvals` or, if columns are non-unique, `df.isetitem(i, newvals)`\n",
      "  student_data.iloc[:,4]=conv.fit_transform(student_data.iloc[:,4])\n",
      "C:\\Users\\maab9\\AppData\\Local\\Temp\\ipykernel_17240\\4013842939.py:6: DeprecationWarning: In a future version, `df.iloc[:, i] = newvals` will attempt to set the values inplace instead of always setting a new array. To retain the old behavior, use either `df[df.columns[i]] = newvals` or, if columns are non-unique, `df.isetitem(i, newvals)`\n",
      "  student_data.iloc[:,5]=conv.fit_transform(student_data.iloc[:,5])\n",
      "C:\\Users\\maab9\\AppData\\Local\\Temp\\ipykernel_17240\\4013842939.py:7: DeprecationWarning: In a future version, `df.iloc[:, i] = newvals` will attempt to set the values inplace instead of always setting a new array. To retain the old behavior, use either `df[df.columns[i]] = newvals` or, if columns are non-unique, `df.isetitem(i, newvals)`\n",
      "  student_data.iloc[:,15]=conv.fit_transform(student_data.iloc[:,15])\n",
      "C:\\Users\\maab9\\AppData\\Local\\Temp\\ipykernel_17240\\4013842939.py:8: DeprecationWarning: In a future version, `df.iloc[:, i] = newvals` will attempt to set the values inplace instead of always setting a new array. To retain the old behavior, use either `df[df.columns[i]] = newvals` or, if columns are non-unique, `df.isetitem(i, newvals)`\n",
      "  student_data.iloc[:,16]=conv.fit_transform(student_data.iloc[:,16])\n",
      "C:\\Users\\maab9\\AppData\\Local\\Temp\\ipykernel_17240\\4013842939.py:9: DeprecationWarning: In a future version, `df.iloc[:, i] = newvals` will attempt to set the values inplace instead of always setting a new array. To retain the old behavior, use either `df[df.columns[i]] = newvals` or, if columns are non-unique, `df.isetitem(i, newvals)`\n",
      "  student_data.iloc[:,17]=conv.fit_transform(student_data.iloc[:,17])\n",
      "C:\\Users\\maab9\\AppData\\Local\\Temp\\ipykernel_17240\\4013842939.py:10: DeprecationWarning: In a future version, `df.iloc[:, i] = newvals` will attempt to set the values inplace instead of always setting a new array. To retain the old behavior, use either `df[df.columns[i]] = newvals` or, if columns are non-unique, `df.isetitem(i, newvals)`\n",
      "  student_data.iloc[:,18]=conv.fit_transform(student_data.iloc[:,18])\n",
      "C:\\Users\\maab9\\AppData\\Local\\Temp\\ipykernel_17240\\4013842939.py:11: DeprecationWarning: In a future version, `df.iloc[:, i] = newvals` will attempt to set the values inplace instead of always setting a new array. To retain the old behavior, use either `df[df.columns[i]] = newvals` or, if columns are non-unique, `df.isetitem(i, newvals)`\n",
      "  student_data.iloc[:,19]=conv.fit_transform(student_data.iloc[:,19])\n",
      "C:\\Users\\maab9\\AppData\\Local\\Temp\\ipykernel_17240\\4013842939.py:12: DeprecationWarning: In a future version, `df.iloc[:, i] = newvals` will attempt to set the values inplace instead of always setting a new array. To retain the old behavior, use either `df[df.columns[i]] = newvals` or, if columns are non-unique, `df.isetitem(i, newvals)`\n",
      "  student_data.iloc[:,20]=conv.fit_transform(student_data.iloc[:,20])\n",
      "C:\\Users\\maab9\\AppData\\Local\\Temp\\ipykernel_17240\\4013842939.py:13: DeprecationWarning: In a future version, `df.iloc[:, i] = newvals` will attempt to set the values inplace instead of always setting a new array. To retain the old behavior, use either `df[df.columns[i]] = newvals` or, if columns are non-unique, `df.isetitem(i, newvals)`\n",
      "  student_data.iloc[:,21]=conv.fit_transform(student_data.iloc[:,21])\n",
      "C:\\Users\\maab9\\AppData\\Local\\Temp\\ipykernel_17240\\4013842939.py:14: DeprecationWarning: In a future version, `df.iloc[:, i] = newvals` will attempt to set the values inplace instead of always setting a new array. To retain the old behavior, use either `df[df.columns[i]] = newvals` or, if columns are non-unique, `df.isetitem(i, newvals)`\n",
      "  student_data.iloc[:,22]=conv.fit_transform(student_data.iloc[:,22])\n"
     ]
    }
   ],
   "source": [
    "# for each of the categorial columns the old values will be replaced by the new encoded values by the encoder model\n",
    "student_data.iloc[:,0]=conv.fit_transform(student_data.iloc[:,0])\n",
    "student_data.iloc[:,1]=conv.fit_transform(student_data.iloc[:,1])\n",
    "student_data.iloc[:,3]=conv.fit_transform(student_data.iloc[:,3])\n",
    "student_data.iloc[:,4]=conv.fit_transform(student_data.iloc[:,4])\n",
    "student_data.iloc[:,5]=conv.fit_transform(student_data.iloc[:,5])\n",
    "student_data.iloc[:,15]=conv.fit_transform(student_data.iloc[:,15])\n",
    "student_data.iloc[:,16]=conv.fit_transform(student_data.iloc[:,16])\n",
    "student_data.iloc[:,17]=conv.fit_transform(student_data.iloc[:,17])\n",
    "student_data.iloc[:,18]=conv.fit_transform(student_data.iloc[:,18])\n",
    "student_data.iloc[:,19]=conv.fit_transform(student_data.iloc[:,19])\n",
    "student_data.iloc[:,20]=conv.fit_transform(student_data.iloc[:,20])\n",
    "student_data.iloc[:,21]=conv.fit_transform(student_data.iloc[:,21])\n",
    "student_data.iloc[:,22]=conv.fit_transform(student_data.iloc[:,22])"
   ]
  },
  {
   "cell_type": "code",
   "execution_count": 51,
   "id": "70e678b9",
   "metadata": {
    "collapsed": true
   },
   "outputs": [
    {
     "name": "stderr",
     "output_type": "stream",
     "text": [
      "C:\\Users\\maab9\\AppData\\Local\\Temp\\ipykernel_17240\\3659187510.py:4: FutureWarning: The default value of numeric_only in DataFrame.corr is deprecated. In a future version, it will default to False. Select only valid columns or specify the value of numeric_only to silence this warning.\n",
      "  corr=student_data.corr().abs()['G3'].sort_values(ascending=False)\n"
     ]
    },
    {
     "data": {
      "text/plain": [
       "G3            1.000000\n",
       "G2            0.910743\n",
       "G1            0.809142\n",
       "failures      0.383145\n",
       "higher        0.236578\n",
       "Medu          0.201472\n",
       "subject       0.187166\n",
       "studytime     0.161629\n",
       "Fedu          0.159796\n",
       "Dalc          0.129642\n",
       "school        0.127114\n",
       "age           0.125282\n",
       "reputation    0.121303\n",
       "address       0.117696\n",
       "Walc          0.115740\n",
       "at_home       0.107951\n",
       "internet      0.107064\n",
       "traveltime    0.102627\n",
       "teacher       0.101361\n",
       "health        0.101349\n",
       "romantic      0.098363\n",
       "goout         0.097877\n",
       "other         0.088445\n",
       "teacher       0.084521\n",
       "course        0.081637\n",
       "health        0.080079\n",
       "schoolsup     0.079346\n",
       "other         0.066051\n",
       "freetime      0.064890\n",
       "famsize       0.061209\n",
       "famrel        0.054461\n",
       "paid          0.049388\n",
       "absences      0.045671\n",
       "services      0.045015\n",
       "other         0.043097\n",
       "father        0.042778\n",
       "health        0.042101\n",
       "nursery       0.039950\n",
       "services      0.035273\n",
       "activities    0.033998\n",
       "sex           0.031472\n",
       "Pstatus       0.030693\n",
       "other         0.023825\n",
       "at_home       0.021194\n",
       "famsup        0.013313\n",
       "mother        0.009746\n",
       "home          0.003895\n",
       "Name: G3, dtype: float64"
      ]
     },
     "execution_count": 51,
     "metadata": {},
     "output_type": "execute_result"
    }
   ],
   "source": [
    "# now we will check the correlation values from the modified dataset , and use the absolute value , since correlation strength\n",
    "#depends on the magnitiude(absolute value) of the correlation factor\n",
    "\n",
    "corr=student_data.corr().abs()['G3'].sort_values(ascending=False) \n",
    "corr"
   ]
  },
  {
   "cell_type": "code",
   "execution_count": 53,
   "id": "5ac90f78",
   "metadata": {},
   "outputs": [
    {
     "ename": "KeyError",
     "evalue": "\"['Mjob' 'Fjob' 'reason' 'guardian'] not found in axis\"",
     "output_type": "error",
     "traceback": [
      "\u001b[1;31m---------------------------------------------------------------------------\u001b[0m",
      "\u001b[1;31mKeyError\u001b[0m                                  Traceback (most recent call last)",
      "\u001b[1;32mc:\\Users\\maab9\\Desktop\\ML Projects\\Student Grade Prediction\\Student Grade Prediction.ipynb Cell 96\u001b[0m line \u001b[0;36m1\n\u001b[1;32m----> <a href='vscode-notebook-cell:/c%3A/Users/maab9/Desktop/ML%20Projects/Student%20Grade%20Prediction/Student%20Grade%20Prediction.ipynb#Y321sZmlsZQ%3D%3D?line=0'>1</a>\u001b[0m student_data\u001b[39m.\u001b[39;49mdrop([\u001b[39m'\u001b[39;49m\u001b[39mMjob\u001b[39;49m\u001b[39m'\u001b[39;49m,\u001b[39m'\u001b[39;49m\u001b[39mFjob\u001b[39;49m\u001b[39m'\u001b[39;49m,\u001b[39m'\u001b[39;49m\u001b[39mreason\u001b[39;49m\u001b[39m'\u001b[39;49m,\u001b[39m'\u001b[39;49m\u001b[39mguardian\u001b[39;49m\u001b[39m'\u001b[39;49m],axis\u001b[39m=\u001b[39;49m\u001b[39m1\u001b[39;49m,inplace\u001b[39m=\u001b[39;49m\u001b[39mTrue\u001b[39;49;00m)\n\u001b[0;32m      <a href='vscode-notebook-cell:/c%3A/Users/maab9/Desktop/ML%20Projects/Student%20Grade%20Prediction/Student%20Grade%20Prediction.ipynb#Y321sZmlsZQ%3D%3D?line=1'>2</a>\u001b[0m student_data\n",
      "File \u001b[1;32mc:\\Users\\maab9\\anaconda3\\envs\\env3\\lib\\site-packages\\pandas\\util\\_decorators.py:331\u001b[0m, in \u001b[0;36mdeprecate_nonkeyword_arguments.<locals>.decorate.<locals>.wrapper\u001b[1;34m(*args, **kwargs)\u001b[0m\n\u001b[0;32m    325\u001b[0m \u001b[39mif\u001b[39;00m \u001b[39mlen\u001b[39m(args) \u001b[39m>\u001b[39m num_allow_args:\n\u001b[0;32m    326\u001b[0m     warnings\u001b[39m.\u001b[39mwarn(\n\u001b[0;32m    327\u001b[0m         msg\u001b[39m.\u001b[39mformat(arguments\u001b[39m=\u001b[39m_format_argument_list(allow_args)),\n\u001b[0;32m    328\u001b[0m         \u001b[39mFutureWarning\u001b[39;00m,\n\u001b[0;32m    329\u001b[0m         stacklevel\u001b[39m=\u001b[39mfind_stack_level(),\n\u001b[0;32m    330\u001b[0m     )\n\u001b[1;32m--> 331\u001b[0m \u001b[39mreturn\u001b[39;00m func(\u001b[39m*\u001b[39margs, \u001b[39m*\u001b[39m\u001b[39m*\u001b[39mkwargs)\n",
      "File \u001b[1;32mc:\\Users\\maab9\\anaconda3\\envs\\env3\\lib\\site-packages\\pandas\\core\\frame.py:5399\u001b[0m, in \u001b[0;36mDataFrame.drop\u001b[1;34m(self, labels, axis, index, columns, level, inplace, errors)\u001b[0m\n\u001b[0;32m   5251\u001b[0m \u001b[39m@deprecate_nonkeyword_arguments\u001b[39m(version\u001b[39m=\u001b[39m\u001b[39mNone\u001b[39;00m, allowed_args\u001b[39m=\u001b[39m[\u001b[39m\"\u001b[39m\u001b[39mself\u001b[39m\u001b[39m\"\u001b[39m, \u001b[39m\"\u001b[39m\u001b[39mlabels\u001b[39m\u001b[39m\"\u001b[39m])\n\u001b[0;32m   5252\u001b[0m \u001b[39mdef\u001b[39;00m \u001b[39mdrop\u001b[39m(  \u001b[39m# type: ignore[override]\u001b[39;00m\n\u001b[0;32m   5253\u001b[0m     \u001b[39mself\u001b[39m,\n\u001b[1;32m   (...)\u001b[0m\n\u001b[0;32m   5260\u001b[0m     errors: IgnoreRaise \u001b[39m=\u001b[39m \u001b[39m\"\u001b[39m\u001b[39mraise\u001b[39m\u001b[39m\"\u001b[39m,\n\u001b[0;32m   5261\u001b[0m ) \u001b[39m-\u001b[39m\u001b[39m>\u001b[39m DataFrame \u001b[39m|\u001b[39m \u001b[39mNone\u001b[39;00m:\n\u001b[0;32m   5262\u001b[0m \u001b[39m    \u001b[39m\u001b[39m\"\"\"\u001b[39;00m\n\u001b[0;32m   5263\u001b[0m \u001b[39m    Drop specified labels from rows or columns.\u001b[39;00m\n\u001b[0;32m   5264\u001b[0m \n\u001b[1;32m   (...)\u001b[0m\n\u001b[0;32m   5397\u001b[0m \u001b[39m            weight  1.0     0.8\u001b[39;00m\n\u001b[0;32m   5398\u001b[0m \u001b[39m    \"\"\"\u001b[39;00m\n\u001b[1;32m-> 5399\u001b[0m     \u001b[39mreturn\u001b[39;00m \u001b[39msuper\u001b[39;49m()\u001b[39m.\u001b[39;49mdrop(\n\u001b[0;32m   5400\u001b[0m         labels\u001b[39m=\u001b[39;49mlabels,\n\u001b[0;32m   5401\u001b[0m         axis\u001b[39m=\u001b[39;49maxis,\n\u001b[0;32m   5402\u001b[0m         index\u001b[39m=\u001b[39;49mindex,\n\u001b[0;32m   5403\u001b[0m         columns\u001b[39m=\u001b[39;49mcolumns,\n\u001b[0;32m   5404\u001b[0m         level\u001b[39m=\u001b[39;49mlevel,\n\u001b[0;32m   5405\u001b[0m         inplace\u001b[39m=\u001b[39;49minplace,\n\u001b[0;32m   5406\u001b[0m         errors\u001b[39m=\u001b[39;49merrors,\n\u001b[0;32m   5407\u001b[0m     )\n",
      "File \u001b[1;32mc:\\Users\\maab9\\anaconda3\\envs\\env3\\lib\\site-packages\\pandas\\util\\_decorators.py:331\u001b[0m, in \u001b[0;36mdeprecate_nonkeyword_arguments.<locals>.decorate.<locals>.wrapper\u001b[1;34m(*args, **kwargs)\u001b[0m\n\u001b[0;32m    325\u001b[0m \u001b[39mif\u001b[39;00m \u001b[39mlen\u001b[39m(args) \u001b[39m>\u001b[39m num_allow_args:\n\u001b[0;32m    326\u001b[0m     warnings\u001b[39m.\u001b[39mwarn(\n\u001b[0;32m    327\u001b[0m         msg\u001b[39m.\u001b[39mformat(arguments\u001b[39m=\u001b[39m_format_argument_list(allow_args)),\n\u001b[0;32m    328\u001b[0m         \u001b[39mFutureWarning\u001b[39;00m,\n\u001b[0;32m    329\u001b[0m         stacklevel\u001b[39m=\u001b[39mfind_stack_level(),\n\u001b[0;32m    330\u001b[0m     )\n\u001b[1;32m--> 331\u001b[0m \u001b[39mreturn\u001b[39;00m func(\u001b[39m*\u001b[39margs, \u001b[39m*\u001b[39m\u001b[39m*\u001b[39mkwargs)\n",
      "File \u001b[1;32mc:\\Users\\maab9\\anaconda3\\envs\\env3\\lib\\site-packages\\pandas\\core\\generic.py:4505\u001b[0m, in \u001b[0;36mNDFrame.drop\u001b[1;34m(self, labels, axis, index, columns, level, inplace, errors)\u001b[0m\n\u001b[0;32m   4503\u001b[0m \u001b[39mfor\u001b[39;00m axis, labels \u001b[39min\u001b[39;00m axes\u001b[39m.\u001b[39mitems():\n\u001b[0;32m   4504\u001b[0m     \u001b[39mif\u001b[39;00m labels \u001b[39mis\u001b[39;00m \u001b[39mnot\u001b[39;00m \u001b[39mNone\u001b[39;00m:\n\u001b[1;32m-> 4505\u001b[0m         obj \u001b[39m=\u001b[39m obj\u001b[39m.\u001b[39;49m_drop_axis(labels, axis, level\u001b[39m=\u001b[39;49mlevel, errors\u001b[39m=\u001b[39;49merrors)\n\u001b[0;32m   4507\u001b[0m \u001b[39mif\u001b[39;00m inplace:\n\u001b[0;32m   4508\u001b[0m     \u001b[39mself\u001b[39m\u001b[39m.\u001b[39m_update_inplace(obj)\n",
      "File \u001b[1;32mc:\\Users\\maab9\\anaconda3\\envs\\env3\\lib\\site-packages\\pandas\\core\\generic.py:4575\u001b[0m, in \u001b[0;36mNDFrame._drop_axis\u001b[1;34m(self, labels, axis, level, errors, only_slice)\u001b[0m\n\u001b[0;32m   4573\u001b[0m     labels_missing \u001b[39m=\u001b[39m (axis\u001b[39m.\u001b[39mget_indexer_for(labels) \u001b[39m==\u001b[39m \u001b[39m-\u001b[39m\u001b[39m1\u001b[39m)\u001b[39m.\u001b[39many()\n\u001b[0;32m   4574\u001b[0m     \u001b[39mif\u001b[39;00m errors \u001b[39m==\u001b[39m \u001b[39m\"\u001b[39m\u001b[39mraise\u001b[39m\u001b[39m\"\u001b[39m \u001b[39mand\u001b[39;00m labels_missing:\n\u001b[1;32m-> 4575\u001b[0m         \u001b[39mraise\u001b[39;00m \u001b[39mKeyError\u001b[39;00m(\u001b[39mf\u001b[39m\u001b[39m\"\u001b[39m\u001b[39m{\u001b[39;00mlabels\u001b[39m}\u001b[39;00m\u001b[39m not found in axis\u001b[39m\u001b[39m\"\u001b[39m)\n\u001b[0;32m   4577\u001b[0m \u001b[39mif\u001b[39;00m is_extension_array_dtype(mask\u001b[39m.\u001b[39mdtype):\n\u001b[0;32m   4578\u001b[0m     \u001b[39m# GH#45860\u001b[39;00m\n\u001b[0;32m   4579\u001b[0m     mask \u001b[39m=\u001b[39m mask\u001b[39m.\u001b[39mto_numpy(dtype\u001b[39m=\u001b[39m\u001b[39mbool\u001b[39m)\n",
      "\u001b[1;31mKeyError\u001b[0m: \"['Mjob' 'Fjob' 'reason' 'guardian'] not found in axis\""
     ]
    }
   ],
   "source": [
    "student_data.drop(['Mjob','Fjob','reason','guardian'],axis=1,inplace=True)\n"
   ]
  },
  {
   "cell_type": "code",
   "execution_count": 54,
   "id": "29ad4293",
   "metadata": {},
   "outputs": [
    {
     "data": {
      "text/html": [
       "<div>\n",
       "<style scoped>\n",
       "    .dataframe tbody tr th:only-of-type {\n",
       "        vertical-align: middle;\n",
       "    }\n",
       "\n",
       "    .dataframe tbody tr th {\n",
       "        vertical-align: top;\n",
       "    }\n",
       "\n",
       "    .dataframe thead th {\n",
       "        text-align: right;\n",
       "    }\n",
       "</style>\n",
       "<table border=\"1\" class=\"dataframe\">\n",
       "  <thead>\n",
       "    <tr style=\"text-align: right;\">\n",
       "      <th></th>\n",
       "      <th>school</th>\n",
       "      <th>sex</th>\n",
       "      <th>age</th>\n",
       "      <th>address</th>\n",
       "      <th>famsize</th>\n",
       "      <th>Pstatus</th>\n",
       "      <th>Medu</th>\n",
       "      <th>Fedu</th>\n",
       "      <th>traveltime</th>\n",
       "      <th>studytime</th>\n",
       "      <th>...</th>\n",
       "      <th>other</th>\n",
       "      <th>services</th>\n",
       "      <th>teacher</th>\n",
       "      <th>course</th>\n",
       "      <th>home</th>\n",
       "      <th>other</th>\n",
       "      <th>reputation</th>\n",
       "      <th>father</th>\n",
       "      <th>mother</th>\n",
       "      <th>other</th>\n",
       "    </tr>\n",
       "  </thead>\n",
       "  <tbody>\n",
       "    <tr>\n",
       "      <th>0</th>\n",
       "      <td>0</td>\n",
       "      <td>0</td>\n",
       "      <td>18</td>\n",
       "      <td>1</td>\n",
       "      <td>0</td>\n",
       "      <td>0</td>\n",
       "      <td>4</td>\n",
       "      <td>4</td>\n",
       "      <td>2</td>\n",
       "      <td>2</td>\n",
       "      <td>...</td>\n",
       "      <td>0</td>\n",
       "      <td>0</td>\n",
       "      <td>1</td>\n",
       "      <td>1</td>\n",
       "      <td>0</td>\n",
       "      <td>0</td>\n",
       "      <td>0</td>\n",
       "      <td>0</td>\n",
       "      <td>1</td>\n",
       "      <td>0</td>\n",
       "    </tr>\n",
       "    <tr>\n",
       "      <th>1</th>\n",
       "      <td>0</td>\n",
       "      <td>0</td>\n",
       "      <td>17</td>\n",
       "      <td>1</td>\n",
       "      <td>0</td>\n",
       "      <td>1</td>\n",
       "      <td>1</td>\n",
       "      <td>1</td>\n",
       "      <td>1</td>\n",
       "      <td>2</td>\n",
       "      <td>...</td>\n",
       "      <td>1</td>\n",
       "      <td>0</td>\n",
       "      <td>0</td>\n",
       "      <td>1</td>\n",
       "      <td>0</td>\n",
       "      <td>0</td>\n",
       "      <td>0</td>\n",
       "      <td>1</td>\n",
       "      <td>0</td>\n",
       "      <td>0</td>\n",
       "    </tr>\n",
       "    <tr>\n",
       "      <th>2</th>\n",
       "      <td>0</td>\n",
       "      <td>0</td>\n",
       "      <td>15</td>\n",
       "      <td>1</td>\n",
       "      <td>1</td>\n",
       "      <td>1</td>\n",
       "      <td>1</td>\n",
       "      <td>1</td>\n",
       "      <td>1</td>\n",
       "      <td>2</td>\n",
       "      <td>...</td>\n",
       "      <td>1</td>\n",
       "      <td>0</td>\n",
       "      <td>0</td>\n",
       "      <td>0</td>\n",
       "      <td>0</td>\n",
       "      <td>1</td>\n",
       "      <td>0</td>\n",
       "      <td>0</td>\n",
       "      <td>1</td>\n",
       "      <td>0</td>\n",
       "    </tr>\n",
       "    <tr>\n",
       "      <th>3</th>\n",
       "      <td>0</td>\n",
       "      <td>0</td>\n",
       "      <td>15</td>\n",
       "      <td>1</td>\n",
       "      <td>0</td>\n",
       "      <td>1</td>\n",
       "      <td>4</td>\n",
       "      <td>2</td>\n",
       "      <td>1</td>\n",
       "      <td>3</td>\n",
       "      <td>...</td>\n",
       "      <td>0</td>\n",
       "      <td>1</td>\n",
       "      <td>0</td>\n",
       "      <td>0</td>\n",
       "      <td>1</td>\n",
       "      <td>0</td>\n",
       "      <td>0</td>\n",
       "      <td>0</td>\n",
       "      <td>1</td>\n",
       "      <td>0</td>\n",
       "    </tr>\n",
       "    <tr>\n",
       "      <th>4</th>\n",
       "      <td>0</td>\n",
       "      <td>0</td>\n",
       "      <td>16</td>\n",
       "      <td>1</td>\n",
       "      <td>0</td>\n",
       "      <td>1</td>\n",
       "      <td>3</td>\n",
       "      <td>3</td>\n",
       "      <td>1</td>\n",
       "      <td>2</td>\n",
       "      <td>...</td>\n",
       "      <td>1</td>\n",
       "      <td>0</td>\n",
       "      <td>0</td>\n",
       "      <td>0</td>\n",
       "      <td>1</td>\n",
       "      <td>0</td>\n",
       "      <td>0</td>\n",
       "      <td>1</td>\n",
       "      <td>0</td>\n",
       "      <td>0</td>\n",
       "    </tr>\n",
       "    <tr>\n",
       "      <th>...</th>\n",
       "      <td>...</td>\n",
       "      <td>...</td>\n",
       "      <td>...</td>\n",
       "      <td>...</td>\n",
       "      <td>...</td>\n",
       "      <td>...</td>\n",
       "      <td>...</td>\n",
       "      <td>...</td>\n",
       "      <td>...</td>\n",
       "      <td>...</td>\n",
       "      <td>...</td>\n",
       "      <td>...</td>\n",
       "      <td>...</td>\n",
       "      <td>...</td>\n",
       "      <td>...</td>\n",
       "      <td>...</td>\n",
       "      <td>...</td>\n",
       "      <td>...</td>\n",
       "      <td>...</td>\n",
       "      <td>...</td>\n",
       "      <td>...</td>\n",
       "    </tr>\n",
       "    <tr>\n",
       "      <th>1039</th>\n",
       "      <td>1</td>\n",
       "      <td>0</td>\n",
       "      <td>19</td>\n",
       "      <td>0</td>\n",
       "      <td>0</td>\n",
       "      <td>1</td>\n",
       "      <td>2</td>\n",
       "      <td>3</td>\n",
       "      <td>1</td>\n",
       "      <td>3</td>\n",
       "      <td>...</td>\n",
       "      <td>1</td>\n",
       "      <td>0</td>\n",
       "      <td>0</td>\n",
       "      <td>1</td>\n",
       "      <td>0</td>\n",
       "      <td>0</td>\n",
       "      <td>0</td>\n",
       "      <td>0</td>\n",
       "      <td>1</td>\n",
       "      <td>0</td>\n",
       "    </tr>\n",
       "    <tr>\n",
       "      <th>1040</th>\n",
       "      <td>1</td>\n",
       "      <td>0</td>\n",
       "      <td>18</td>\n",
       "      <td>1</td>\n",
       "      <td>1</td>\n",
       "      <td>1</td>\n",
       "      <td>3</td>\n",
       "      <td>1</td>\n",
       "      <td>1</td>\n",
       "      <td>2</td>\n",
       "      <td>...</td>\n",
       "      <td>0</td>\n",
       "      <td>1</td>\n",
       "      <td>0</td>\n",
       "      <td>1</td>\n",
       "      <td>0</td>\n",
       "      <td>0</td>\n",
       "      <td>0</td>\n",
       "      <td>0</td>\n",
       "      <td>1</td>\n",
       "      <td>0</td>\n",
       "    </tr>\n",
       "    <tr>\n",
       "      <th>1041</th>\n",
       "      <td>1</td>\n",
       "      <td>0</td>\n",
       "      <td>18</td>\n",
       "      <td>1</td>\n",
       "      <td>0</td>\n",
       "      <td>1</td>\n",
       "      <td>1</td>\n",
       "      <td>1</td>\n",
       "      <td>2</td>\n",
       "      <td>2</td>\n",
       "      <td>...</td>\n",
       "      <td>1</td>\n",
       "      <td>0</td>\n",
       "      <td>0</td>\n",
       "      <td>1</td>\n",
       "      <td>0</td>\n",
       "      <td>0</td>\n",
       "      <td>0</td>\n",
       "      <td>0</td>\n",
       "      <td>1</td>\n",
       "      <td>0</td>\n",
       "    </tr>\n",
       "    <tr>\n",
       "      <th>1042</th>\n",
       "      <td>1</td>\n",
       "      <td>1</td>\n",
       "      <td>17</td>\n",
       "      <td>1</td>\n",
       "      <td>1</td>\n",
       "      <td>1</td>\n",
       "      <td>3</td>\n",
       "      <td>1</td>\n",
       "      <td>2</td>\n",
       "      <td>1</td>\n",
       "      <td>...</td>\n",
       "      <td>0</td>\n",
       "      <td>1</td>\n",
       "      <td>0</td>\n",
       "      <td>1</td>\n",
       "      <td>0</td>\n",
       "      <td>0</td>\n",
       "      <td>0</td>\n",
       "      <td>0</td>\n",
       "      <td>1</td>\n",
       "      <td>0</td>\n",
       "    </tr>\n",
       "    <tr>\n",
       "      <th>1043</th>\n",
       "      <td>1</td>\n",
       "      <td>1</td>\n",
       "      <td>18</td>\n",
       "      <td>0</td>\n",
       "      <td>1</td>\n",
       "      <td>1</td>\n",
       "      <td>3</td>\n",
       "      <td>2</td>\n",
       "      <td>3</td>\n",
       "      <td>1</td>\n",
       "      <td>...</td>\n",
       "      <td>1</td>\n",
       "      <td>0</td>\n",
       "      <td>0</td>\n",
       "      <td>1</td>\n",
       "      <td>0</td>\n",
       "      <td>0</td>\n",
       "      <td>0</td>\n",
       "      <td>0</td>\n",
       "      <td>1</td>\n",
       "      <td>0</td>\n",
       "    </tr>\n",
       "  </tbody>\n",
       "</table>\n",
       "<p>1044 rows × 47 columns</p>\n",
       "</div>"
      ],
      "text/plain": [
       "      school  sex  age  address  famsize  Pstatus  Medu  Fedu  traveltime  \\\n",
       "0          0    0   18        1        0        0     4     4           2   \n",
       "1          0    0   17        1        0        1     1     1           1   \n",
       "2          0    0   15        1        1        1     1     1           1   \n",
       "3          0    0   15        1        0        1     4     2           1   \n",
       "4          0    0   16        1        0        1     3     3           1   \n",
       "...      ...  ...  ...      ...      ...      ...   ...   ...         ...   \n",
       "1039       1    0   19        0        0        1     2     3           1   \n",
       "1040       1    0   18        1        1        1     3     1           1   \n",
       "1041       1    0   18        1        0        1     1     1           2   \n",
       "1042       1    1   17        1        1        1     3     1           2   \n",
       "1043       1    1   18        0        1        1     3     2           3   \n",
       "\n",
       "      studytime  ...  other  services  teacher  course  home  other  \\\n",
       "0             2  ...      0         0        1       1     0      0   \n",
       "1             2  ...      1         0        0       1     0      0   \n",
       "2             2  ...      1         0        0       0     0      1   \n",
       "3             3  ...      0         1        0       0     1      0   \n",
       "4             2  ...      1         0        0       0     1      0   \n",
       "...         ...  ...    ...       ...      ...     ...   ...    ...   \n",
       "1039          3  ...      1         0        0       1     0      0   \n",
       "1040          2  ...      0         1        0       1     0      0   \n",
       "1041          2  ...      1         0        0       1     0      0   \n",
       "1042          1  ...      0         1        0       1     0      0   \n",
       "1043          1  ...      1         0        0       1     0      0   \n",
       "\n",
       "      reputation  father  mother  other  \n",
       "0              0       0       1      0  \n",
       "1              0       1       0      0  \n",
       "2              0       0       1      0  \n",
       "3              0       0       1      0  \n",
       "4              0       1       0      0  \n",
       "...          ...     ...     ...    ...  \n",
       "1039           0       0       1      0  \n",
       "1040           0       0       1      0  \n",
       "1041           0       0       1      0  \n",
       "1042           0       0       1      0  \n",
       "1043           0       0       1      0  \n",
       "\n",
       "[1044 rows x 47 columns]"
      ]
     },
     "execution_count": 54,
     "metadata": {},
     "output_type": "execute_result"
    }
   ],
   "source": [
    "student_data"
   ]
  },
  {
   "cell_type": "markdown",
   "id": "5bf1742e",
   "metadata": {},
   "source": [
    "### From observing the relation graphs between different features and their correlations , it is evident that the features that most affect the final grade are the faiures, choice of higher education , mother's education , abscences  and study time. That being said , we cannot choose only those as it would result in a reduced accuracy, so we will drop the features that have the lowest correlation values and also logically make sense to remove"
   ]
  },
  {
   "cell_type": "code",
   "execution_count": null,
   "id": "f95b086b",
   "metadata": {
    "collapsed": true
   },
   "outputs": [],
   "source": [
    "drop=['Pstatus','nursery','sex','famsize','activities','guardian']\n",
    "student_data=student_data.drop(drop,axis=1)"
   ]
  },
  {
   "cell_type": "markdown",
   "id": "2732ee94",
   "metadata": {},
   "source": [
    "# Assignment Q1 Advanced :"
   ]
  },
  {
   "cell_type": "markdown",
   "id": "dc6ff027",
   "metadata": {},
   "source": [
    "## Factor Analysis"
   ]
  },
  {
   "cell_type": "code",
   "execution_count": null,
   "id": "59ebafa6",
   "metadata": {
    "collapsed": true
   },
   "outputs": [],
   "source": [
    "from factor_analyzer import FactorAnalyzer # I installed factoranalyzer at anaconda prompt using pip install\n",
    "analyser=FactorAnalyzer(n_factors=10,rotation='varimax') # creating a model for the factor analyser, I chose the varimax config\n",
    "#what it does it that it tries very hard to make the features fit within the hidden factors"
   ]
  },
  {
   "cell_type": "code",
   "execution_count": null,
   "id": "fe4d83a9",
   "metadata": {
    "collapsed": true
   },
   "outputs": [],
   "source": [
    "analyser.fit(student_data) # fitting the math data using the analyser"
   ]
  },
  {
   "cell_type": "code",
   "execution_count": null,
   "id": "fb21296a",
   "metadata": {
    "collapsed": true
   },
   "outputs": [],
   "source": [
    "corr_coeffs=analyser.loadings_ # the loadings are basically the correlation coefficients between the features and the hidden factors"
   ]
  },
  {
   "cell_type": "code",
   "execution_count": null,
   "id": "c67f979b",
   "metadata": {
    "collapsed": true
   },
   "outputs": [],
   "source": [
    "eigen_vectors,eigen_vals=analyser.get_eigenvalues()"
   ]
  },
  {
   "cell_type": "code",
   "execution_count": null,
   "id": "0ef9f238",
   "metadata": {
    "collapsed": true
   },
   "outputs": [],
   "source": [
    "factor_no=range(1,student_data.shape[1]+1) # since the index starts at 0 , the total features will be 1 + length"
   ]
  },
  {
   "cell_type": "code",
   "execution_count": null,
   "id": "b5578c77",
   "metadata": {
    "collapsed": true
   },
   "outputs": [],
   "source": [
    "plt.scatter(factor_no,eigen_vals) # plotting the eigen values for the features\n",
    "plt.plot(factor_no,eigen_vals)\n",
    "plt.title('Figure 51 : Scree Plot of Eigen Values for Factors')\n",
    "plt.xlabel('Factor #')\n",
    "plt.ylabel('Eigen Value')\n",
    "plt.grid()\n",
    "plt.show"
   ]
  },
  {
   "cell_type": "markdown",
   "id": "18decb3c",
   "metadata": {},
   "source": [
    "## Findings\n",
    "### The main purpose of the factor analyser is to connect the features of a dataset in a way such that they can be grouped into hidden factors, like for example in our data , how a student does at a certain subject might depend on for example the location they grew up , if it was near Portugal , they might be more fluent in portugese , other hidden factors might be hobbies and such. Factor analysis tries to find how certain features can be \"grouped\" together under various factors. Eigen Values can be observed to find out information about how much of the variance of the target variable can be explained through certain features/factors. A higher eigen value means the importance of the feature is more, and that is where a scree plot comes in. A scree plot plots the eigen values of different factors, and there are multiple ways of deciding how many factors will be worth considering. One of the approaches is to ignore the features from the scree plot that have eigen values less than 1. But we cannot do that for our models because for both the subjects, only 4-5 factors have eigen values greater than 1 , and out of them three are grades G1,G2 and G3 , so not picking the top 5 from here wouldn't give us much information. Which is also the reason that later on, G1, G2 and G3 need to be dropped from the prediction model. That might cost us some accuracy , but we need more useful predictors of final grade, instead of the grades themselves."
   ]
  },
  {
   "cell_type": "markdown",
   "id": "236ba96a",
   "metadata": {},
   "source": [
    "# Question #2 Random Forest Regression Model"
   ]
  },
  {
   "cell_type": "markdown",
   "id": "568af631",
   "metadata": {},
   "source": [
    "### As discussed before, we need to drop the grades for the prediction model"
   ]
  },
  {
   "cell_type": "code",
   "execution_count": null,
   "id": "53f77051",
   "metadata": {
    "collapsed": true
   },
   "outputs": [],
   "source": [
    "grades=['G3','G2','G1'] # extracting the column names to be dropped\n",
    "#dropping the columns for each subject data\n",
    "X = student_data.drop(grades, axis=1) "
   ]
  },
  {
   "cell_type": "markdown",
   "id": "2ceabf0f",
   "metadata": {},
   "source": [
    "### For building the Random Forest Model , we will first spilt the data into training and testing parts"
   ]
  },
  {
   "cell_type": "code",
   "execution_count": null,
   "id": "10b13fea",
   "metadata": {
    "collapsed": true
   },
   "outputs": [],
   "source": [
    "# importing the test split function from sklearn\n",
    "from sklearn.model_selection import train_test_split"
   ]
  },
  {
   "cell_type": "code",
   "execution_count": null,
   "id": "be07d060",
   "metadata": {
    "collapsed": true
   },
   "outputs": [],
   "source": [
    "#extracting the target variables\n",
    "Y=student_data['G3']"
   ]
  },
  {
   "cell_type": "code",
   "execution_count": null,
   "id": "f6c2bc48",
   "metadata": {
    "collapsed": true
   },
   "outputs": [],
   "source": [
    "# The test and train data is divided 25 to 75 , since most of the other features had a smaller correlation that the dropped ones\n",
    "#we need to make sure the model is correctly trained\n",
    "X_train,X_test,Y_train,Y_test=train_test_split(X,Y,test_size=0.25)"
   ]
  },
  {
   "cell_type": "code",
   "execution_count": null,
   "id": "b700a22f",
   "metadata": {
    "collapsed": true
   },
   "outputs": [],
   "source": [
    "from sklearn.preprocessing import StandardScaler #scaling the data so that variable ranges could be similar\n",
    "scaler = StandardScaler()\n",
    "X_train = scaler.fit_transform(X_train)\n",
    "X_test = scaler.transform(X_test)\n",
    "X_train = pd.DataFrame(X_train, columns=X.columns)\n",
    "X_test = pd.DataFrame(X_test, columns=X.columns)"
   ]
  },
  {
   "cell_type": "code",
   "execution_count": null,
   "id": "156abd53",
   "metadata": {
    "collapsed": true
   },
   "outputs": [],
   "source": [
    "print(X_train.shape,X_test.shape,Y_train.shape,Y_test.shape) #printing the shapes of the test and train data to observe\n",
    "#the distribution"
   ]
  },
  {
   "cell_type": "code",
   "execution_count": null,
   "id": "808999a0",
   "metadata": {
    "collapsed": true
   },
   "outputs": [],
   "source": []
  },
  {
   "cell_type": "code",
   "execution_count": null,
   "id": "7e213a99",
   "metadata": {
    "collapsed": true
   },
   "outputs": [],
   "source": [
    "from sklearn.ensemble import RandomForestRegressor # importing the Random Forest Regression from sklearn library"
   ]
  },
  {
   "cell_type": "code",
   "execution_count": null,
   "id": "d0c449a6",
   "metadata": {
    "collapsed": true
   },
   "outputs": [],
   "source": [
    "# n_estimators describe the number of trees in the random forest model , a higher number of trees usually means higher accuracy\n",
    "#but more complexity , and usually , after 100 , the accuracy doesn't improve much , so I chose 50\n",
    "rf_reg=RandomForestRegressor(n_estimators=50,random_state=30) "
   ]
  },
  {
   "cell_type": "code",
   "execution_count": null,
   "id": "3ed96c34",
   "metadata": {
    "collapsed": true
   },
   "outputs": [],
   "source": [
    "#using the training data to train the models\n",
    "rf_reg.fit(X_train,Y_train) \n"
   ]
  },
  {
   "cell_type": "code",
   "execution_count": null,
   "id": "5797f4eb",
   "metadata": {
    "collapsed": true
   },
   "outputs": [],
   "source": []
  },
  {
   "cell_type": "markdown",
   "id": "b25115d9",
   "metadata": {},
   "source": [
    "### Using test data to evaluate my model"
   ]
  },
  {
   "cell_type": "markdown",
   "id": "a610f401",
   "metadata": {},
   "source": [
    "### Since this is a regression model , using continous values, Mean Absolute Errors and Root Mean Square Errors will be appropriate measures of the accuracy of the model"
   ]
  },
  {
   "cell_type": "code",
   "execution_count": null,
   "id": "ed16dc85",
   "metadata": {
    "collapsed": true
   },
   "outputs": [],
   "source": [
    "Y_pred=rf_reg.predict(X_test)"
   ]
  },
  {
   "cell_type": "code",
   "execution_count": null,
   "id": "1b1bd9e8",
   "metadata": {
    "collapsed": true
   },
   "outputs": [],
   "source": [
    "from sklearn.metrics import mean_squared_error,mean_absolute_error\n",
    "mae=mean_absolute_error(Y_pred,Y_test)\n",
    "rmse=math.sqrt(mean_squared_error(Y_pred,Y_test))"
   ]
  },
  {
   "cell_type": "code",
   "execution_count": null,
   "id": "ba851137",
   "metadata": {
    "collapsed": true
   },
   "outputs": [],
   "source": [
    "print('The Mean Absolute Error, MAE, of the model is : %.3f'%mae)"
   ]
  },
  {
   "cell_type": "code",
   "execution_count": null,
   "id": "945f5abf",
   "metadata": {
    "collapsed": true
   },
   "outputs": [],
   "source": [
    "print('The Root Absolute Error , RMSE,  of the model is : %.3f'%rmse)"
   ]
  },
  {
   "cell_type": "markdown",
   "id": "35e73f2c",
   "metadata": {},
   "source": [
    "## Now let's try to visualize the accuracy by plotting the predictions against the test values to see if the the predictions follow the test values"
   ]
  },
  {
   "cell_type": "code",
   "execution_count": null,
   "id": "6132cd96",
   "metadata": {
    "collapsed": true
   },
   "outputs": [],
   "source": [
    "plt.rcParams['figure.figsize']=(20,15)\n",
    "x_range=range(len(X_test))\n",
    "plt.ylabel('Final Grade')\n",
    "plt.xlabel('Test Data')\n",
    "plt.plot(x_range,Y_test,label='Test Data',color='k',linestyle='-')\n",
    "plt.plot(x_range,Y_pred,label='Predicted Data',color='k',linestyle='--')\n",
    "plt.legend(bbox_to_anchor = (0.5,1),loc='upper center',ncol=2,frameon=False)\n",
    "plt.title('Figure 52 : Test vs Predicted Data')\n",
    "plt.grid()\n"
   ]
  },
  {
   "cell_type": "markdown",
   "id": "1d1c1092",
   "metadata": {},
   "source": [
    "## Comments on the accuracy :The models hs acceptable Mean Absolute and Root mean square values, because the max value of the target value is 20 , and the MAE and RMSE errors for both models are somwhere around the 1-2 range, such errors are expected in regressor models as exactly predicting continous values is very hard , even for very complex ML models. From the graphs, the predictions can be observed to follow the test values and match their variations"
   ]
  },
  {
   "cell_type": "markdown",
   "id": "17de42d5",
   "metadata": {},
   "source": [
    "## Feature importance graphs"
   ]
  },
  {
   "cell_type": "code",
   "execution_count": null,
   "id": "2b9361e2",
   "metadata": {
    "collapsed": true
   },
   "outputs": [],
   "source": [
    "columns= X_train.columns # extracting the column names \n",
    "feature_importance=rf_reg.feature_importances_ # extracting the feature importances from the model\n",
    "for i,features in zip(feature_importance,columns):\n",
    "   \n",
    "    \n",
    "    index = np.argsort(feature_importance) # sorting the feature importances according to the index\n",
    "    features = [X.columns[i] for i in index]"
   ]
  },
  {
   "cell_type": "code",
   "execution_count": null,
   "id": "5c177e1a",
   "metadata": {
    "collapsed": true
   },
   "outputs": [],
   "source": [
    "# plotting the feature importances\n",
    "plt.figure(figsize=(10,10))\n",
    "plt.bar(range(X_train.shape[1]), feature_importance[index],width=0.8)\n",
    "plt.xticks(range(X_train.shape[1]),features, rotation=80, fontsize = 11)\n",
    "plt.title(\"Figure 53 : Feature Importance Graph\")\n",
    "plt.show()\n"
   ]
  },
  {
   "cell_type": "markdown",
   "id": "e576591e",
   "metadata": {},
   "source": [
    "## Some final visualization for the errors in the models"
   ]
  },
  {
   "cell_type": "markdown",
   "id": "8432e93c",
   "metadata": {},
   "source": [
    "### Figure 54 : Residuals for Data"
   ]
  },
  {
   "cell_type": "code",
   "execution_count": null,
   "id": "56f4be12",
   "metadata": {
    "collapsed": true
   },
   "outputs": [],
   "source": [
    "from yellowbrick.regressor import ResidualsPlot\n",
    "errors= ResidualsPlot(rf_reg)\n",
    "errors.fit(X_train,Y_train)\n",
    "errors.score(X_test,Y_test)\n",
    "errors.poof()"
   ]
  },
  {
   "cell_type": "markdown",
   "id": "300ac6ff",
   "metadata": {},
   "source": [
    "## Comments on the residual plots : The plot shows that the residuals for the model are distributed around or close to 0 , there are a equal amount of errors on both sides mostly, this shows that the model is neither overfitted or underfitted."
   ]
  },
  {
   "cell_type": "markdown",
   "id": "c5967a69",
   "metadata": {},
   "source": [
    "## Question 2 : Advanced"
   ]
  },
  {
   "cell_type": "code",
   "execution_count": null,
   "id": "9539ede8",
   "metadata": {
    "collapsed": true
   },
   "outputs": [],
   "source": [
    "student_data['G3'].describe() # finding the distribution of the final grades"
   ]
  },
  {
   "cell_type": "code",
   "execution_count": null,
   "id": "b4ffb5fc",
   "metadata": {
    "collapsed": true
   },
   "outputs": [],
   "source": [
    "student_data2=student_data.copy() # copying the database to modify"
   ]
  },
  {
   "cell_type": "markdown",
   "id": "6d7c41a7",
   "metadata": {},
   "source": [
    "#### For each data , we will categorize the value of the final grade into poor, average or well acheiving depending on the grade according the the range : 0-8 : Poor , 8-15 , average , 16-20 , well"
   ]
  },
  {
   "cell_type": "code",
   "execution_count": null,
   "id": "de33ee1b",
   "metadata": {
    "collapsed": true
   },
   "outputs": [],
   "source": [
    "def categories(grades):\n",
    "    if(grades<8):\n",
    "        return(\"Poor Achieving\")\n",
    "    elif(grades>=8 and grades<=15):\n",
    "        return(\"Average Achieving\")\n",
    "    elif(grades>15):\n",
    "        return(\"Well Achieving\")\n",
    "student_data2[\"G3\"]=student_data[\"G3\"].apply(categories)"
   ]
  },
  {
   "cell_type": "code",
   "execution_count": null,
   "id": "4c2e6ebb",
   "metadata": {
    "collapsed": true
   },
   "outputs": [],
   "source": [
    "student_data2.head()"
   ]
  },
  {
   "cell_type": "code",
   "execution_count": null,
   "id": "305584c8",
   "metadata": {
    "collapsed": true
   },
   "outputs": [],
   "source": [
    "student_data2['G3'].value_counts() # checking the distribution of each category"
   ]
  },
  {
   "cell_type": "code",
   "execution_count": null,
   "id": "532e79b6",
   "metadata": {
    "collapsed": true
   },
   "outputs": [],
   "source": [
    "#extracting the target variable and the rest of the dataset for training\n",
    "Y2=student_data2['G3']\n",
    "grades=['G3','G2','G1']\n",
    "X2 = student_data2.drop(grades, axis=1)"
   ]
  },
  {
   "cell_type": "code",
   "execution_count": null,
   "id": "c2cceda7",
   "metadata": {
    "collapsed": true
   },
   "outputs": [],
   "source": [
    "# now again we will split the data into train and test parts"
   ]
  },
  {
   "cell_type": "code",
   "execution_count": null,
   "id": "09fe08b1",
   "metadata": {
    "collapsed": true
   },
   "outputs": [],
   "source": [
    "X2_train,X2_test,Y2_train,Y2_test=train_test_split(X2,Y2,test_size=0.30)"
   ]
  },
  {
   "cell_type": "code",
   "execution_count": null,
   "id": "d83fce9e",
   "metadata": {
    "collapsed": true
   },
   "outputs": [],
   "source": [
    "from sklearn.preprocessing import StandardScaler #scaling the data so that variable ranges could be similar\n",
    "scaler = StandardScaler()\n",
    "X2_train = scaler.fit_transform(X2_train)\n",
    "X2_test = scaler.transform(X2_test)\n",
    "X2_train = pd.DataFrame(X2_train, columns=X.columns)\n",
    "X2_test = pd.DataFrame(X2_test, columns=X.columns)"
   ]
  },
  {
   "cell_type": "code",
   "execution_count": null,
   "id": "5b595b70",
   "metadata": {
    "collapsed": true
   },
   "outputs": [],
   "source": [
    "# importing the random forest classifier and building the models \n",
    "from sklearn.ensemble import RandomForestClassifier\n",
    "rf_class=RandomForestClassifier(n_estimators=50,random_state=30)\n",
    "rf_class.fit(X2_train,Y2_train)#fitting the model\n"
   ]
  },
  {
   "cell_type": "code",
   "execution_count": null,
   "id": "66435e73",
   "metadata": {
    "collapsed": true
   },
   "outputs": [],
   "source": [
    "Y2_pred=rf_class.predict(X2_test) # using test data to make predictions and evaluate the model"
   ]
  },
  {
   "cell_type": "code",
   "execution_count": null,
   "id": "f432f596",
   "metadata": {
    "collapsed": true
   },
   "outputs": [],
   "source": [
    "Y2_test.value_counts()"
   ]
  },
  {
   "cell_type": "code",
   "execution_count": null,
   "id": "745a1062",
   "metadata": {
    "collapsed": true
   },
   "outputs": [],
   "source": [
    "Y2_pred"
   ]
  },
  {
   "cell_type": "markdown",
   "id": "a4edbc45",
   "metadata": {},
   "source": [
    "## Checking the accuracy of the models , since this is classification the accuracy score would be a better predictor for these models"
   ]
  },
  {
   "cell_type": "code",
   "execution_count": null,
   "id": "d1c9928c",
   "metadata": {
    "collapsed": true
   },
   "outputs": [],
   "source": [
    "from sklearn.metrics import accuracy_score # importing the accuracy score function\n",
    "acc=accuracy_score(Y2_test, Y2_pred)\n",
    "print('The accuracy of the model is : %.2f'%(acc*100),'%')"
   ]
  },
  {
   "cell_type": "markdown",
   "id": "eee67223",
   "metadata": {},
   "source": [
    "## Building the confusion matrices for both the model"
   ]
  },
  {
   "cell_type": "code",
   "execution_count": null,
   "id": "1e167a8e",
   "metadata": {
    "collapsed": true
   },
   "outputs": [],
   "source": [
    "from sklearn.metrics import confusion_matrix #importing the confusion matrix function \n",
    "#extracting the confusion matrices and classification reports for both the models\n",
    "conf_mat=confusion_matrix(Y2_test,Y2_pred) \n",
    " \n",
    "from sklearn.metrics import classification_report\n",
    "conf_report=classification_report(Y2_test,Y2_pred)\n"
   ]
  },
  {
   "cell_type": "code",
   "execution_count": null,
   "id": "cec752e3",
   "metadata": {
    "collapsed": true
   },
   "outputs": [],
   "source": [
    "print('The confusion matrix for the  Model is :\\n',conf_report)"
   ]
  },
  {
   "cell_type": "markdown",
   "id": "ee601f2c",
   "metadata": {},
   "source": [
    "## Comments on the accuracy and performance :The model has a satisfactory over 80 percent, precision is very high for the most frequent class, which means classes were predicted more correctly than not, as precision is the true positive ratio  to sum of true positive and false positives, the f1-score is high for the average class which means it is very likely to be predicted correctly, as the f1-score to being closer to 1 means better performance of the model. Overall, the model performed reasonably without being too complex."
   ]
  },
  {
   "cell_type": "code",
   "execution_count": null,
   "id": "01de0f29",
   "metadata": {
    "collapsed": true
   },
   "outputs": [],
   "source": []
  },
  {
   "cell_type": "code",
   "execution_count": null,
   "id": "a8938260",
   "metadata": {
    "collapsed": true
   },
   "outputs": [],
   "source": []
  },
  {
   "cell_type": "code",
   "execution_count": null,
   "id": "3f5f6203",
   "metadata": {
    "collapsed": true
   },
   "outputs": [],
   "source": []
  },
  {
   "cell_type": "code",
   "execution_count": null,
   "id": "9d6b1783",
   "metadata": {
    "collapsed": true
   },
   "outputs": [],
   "source": []
  }
 ],
 "metadata": {
  "kernelspec": {
   "display_name": "Python 3 (ipykernel)",
   "language": "python",
   "name": "python3"
  },
  "language_info": {
   "codemirror_mode": {
    "name": "ipython",
    "version": 3
   },
   "file_extension": ".py",
   "mimetype": "text/x-python",
   "name": "python",
   "nbconvert_exporter": "python",
   "pygments_lexer": "ipython3",
   "version": "3.10.11"
  }
 },
 "nbformat": 4,
 "nbformat_minor": 5
}
